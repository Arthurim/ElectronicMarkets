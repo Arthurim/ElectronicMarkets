{
 "cells": [
  {
   "cell_type": "markdown",
   "metadata": {},
   "source": [
    "# Electronic Markets - Optimal execution with the Almgren-Chriss model\n",
    "\n",
    "## 1. Model\n",
    "\n",
    "The **Almgren-Chriss framework** (1999) is a mathematical model that looks to estimate the optimal pace to build/unwind a trading position, issues often faced by brokers and traders but has not seen as much interest from statisticians, economists and econophysicists in the past decades. Compared to Bertsimas-Lo (1998), Almgren-Chriss established the existence of a trade-off between fast execution (limited liquidity, high market impact, high transaction costs) and slow execution (exposure to price fluctuations). Other interesting facets of the Almgren-Chriss framework include:\n",
    "\n",
    "- Allows one to graphically represent the trade-off between slow/fast execution;\n",
    "- Ease to choose one's own prefered approach to model market impact costs;\n",
    "- Avoids the temptation of modelling the market as a physical system fully enclosed in its own data (*physics envy*);\n",
    "- Designed from a bottom-top approach: the modelling is based on the execution process itself;\n",
    "- Provides a multitude of modelling approaches to compute the slow/fast execution trade-off (e.g. dynamic programming, stochastic control, reinforcement learning, etc.).\n",
    "\n",
    "We will present 4 approaches to solve the Almgren-Chriss mode:\n",
    "\n",
    "1. Dynamic programming\n",
    "2. Closed-form solution (original method)\n",
    "3. Stochastic control\n",
    "4. Reinforcement learning (ex. Q-Learning)\n",
    "\n",
    "\n",
    "## 2. Dynamic programming\n",
    "\n",
    "### 2.1. Market impact functions"
   ]
  },
  {
   "cell_type": "code",
   "execution_count": 3,
   "metadata": {
    "collapsed": true
   },
   "outputs": [],
   "source": [
    "import numpy as np\n",
    "import pandas as pd\n",
    "import math"
   ]
  },
  {
   "cell_type": "markdown",
   "metadata": {},
   "source": [
    "Utilities for the implementation of Almgren-Chriss:\n",
    "\n",
    "- **Temporary market impact function**\n",
    "\n",
    "$$ h(\\frac{n_k}{\\tau}) = \\epsilon \\, sign(n_k) + \\eta \\frac{n_k}{\\tau} $$\n",
    "\n",
    "- **Permanent market impact function**\n",
    "\n",
    "$$ g(v) = \\gamma v $$\n",
    "\n",
    "- **Hamiltonian equation**\n",
    "\n",
    "$$ H(x,n) = ng(\\frac{n}{\\tau}) + \\gamma (x-n) \\tau h(\\frac{n}{\\tau}) - \\frac{1}{2} \\gamma^2 (x-n)^2 \\sigma^2 \\tau $$"
   ]
  },
  {
   "cell_type": "code",
   "execution_count": 4,
   "metadata": {
    "collapsed": true
   },
   "outputs": [],
   "source": [
    "# Utilities\n",
    "def h(u):\n",
    "    \"\"\"\n",
    "    Temporary market impact function.\n",
    "    \n",
    "    Inputs\n",
    "    - u/tau, speed of trading\n",
    "    \"\"\"\n",
    "    tau = 1.\n",
    "    epsilon = 1./16.\n",
    "    eta = 2.5 * 10 ** (-3)\n",
    "    return epsilon * np.sign(u) + eta * (u/tau)\n",
    "\n",
    "def g(u):\n",
    "    \"\"\"\n",
    "    Permanent market impact function.\n",
    "    \"\"\"\n",
    "    gamma = 2.5 * 10 ** (-3)\n",
    "    return gamma * u\n",
    "\n",
    "def H(x,n):\n",
    "    \"\"\"\n",
    "    Hamiltonian equation. To be minimized through DP.\n",
    "    \"\"\"\n",
    "    tau = 1.\n",
    "    gamma = 2.5 * 10 ** (-3)\n",
    "    sigma = 0.3\n",
    "    res = n*g(n/tau) + gamma*(x-n)*tau*h(n/tau) - 0.5*(gamma**2)*(sigma**2)*tau\n",
    "    return res"
   ]
  },
  {
   "cell_type": "markdown",
   "metadata": {},
   "source": [
    "### 2.2. Dynamic programming: a simplified version\n",
    "\n",
    "Bellman equation:"
   ]
  },
  {
   "cell_type": "code",
   "execution_count": 5,
   "metadata": {
    "collapsed": true
   },
   "outputs": [],
   "source": [
    "def dynamic_programming(nb_T, X_total):\n",
    "    \"\"\"\n",
    "    Bellman equation for solving Markov decision processes.\n",
    "    \n",
    "    Inputs\n",
    "    - nb_T, number of time steps\n",
    "    - X_total, number of shares to be liquidated\n",
    "    \"\"\"\n",
    "    # Init\n",
    "    tau = 1.\n",
    "    gamma = 2.5 * 10 ** (-5)\n",
    "    u = np.zeros(shape=(nb_T, X_total), dtype=\"float\")  # value function\n",
    "    b = np.zeros(shape=(nb_T, X_total), dtype=\"int\")    # best move\n",
    "    \n",
    "    # Terminal condition\n",
    "    for x in range(X_total):\n",
    "        u[nb_T - 1, x] = math.exp(gamma*x*h(x/tau))\n",
    "        b[nb_T - 1, x] = x\n",
    "    \n",
    "    # Backwards induction\n",
    "    for t in range(nb_T-2, -1, -1):\n",
    "        for x in range(X_total):\n",
    "            \n",
    "            best_value = u[t+1,0] * math.exp(gamma*H(x,x))\n",
    "            best_n = x\n",
    "            \n",
    "            for n in range(x):\n",
    "                current_value = u[t+1,x-n] * math.exp(gamma*H(x,n))\n",
    "                if current_value < best_value:\n",
    "                    best_value = current_value\n",
    "                    best_n = n\n",
    "            u[t,x] = best_value\n",
    "            b[t,x] = best_n\n",
    "    \n",
    "    return u, b"
   ]
  },
  {
   "cell_type": "code",
   "execution_count": 21,
   "metadata": {},
   "outputs": [
    {
     "name": "stdout",
     "output_type": "stream",
     "text": [
      "(10, 50)\n"
     ]
    }
   ],
   "source": [
    "model = dynamic_programming(nb_T=10, X_total=50)\n",
    "print(model[0].shape)\n",
    "#pd.DataFrame(model[0])\n",
    "#model[0]"
   ]
  },
  {
   "cell_type": "code",
   "execution_count": 22,
   "metadata": {},
   "outputs": [],
   "source": [
    "#print(model[1])"
   ]
  },
  {
   "cell_type": "code",
   "execution_count": 23,
   "metadata": {},
   "outputs": [
    {
     "data": {
      "image/png": "[encoded data removed]",
      "text/plain": [
       "<matplotlib.figure.Figure at 0x1f07849ddd8>"
      ]
     },
     "metadata": {},
     "output_type": "display_data"
    }
   ],
   "source": [
    "import matplotlib.pyplot as plt\n",
    "plt.plot(np.linspace(0, 10, len(model[1][-1][::-1])), model[1][-1][::-1], marker='o')\n",
    "plt.grid(True)\n",
    "plt.show()"
   ]
  },
  {
   "cell_type": "code",
   "execution_count": 25,
   "metadata": {},
   "outputs": [
    {
     "data": {
      "text/plain": [
       "array([49, 48, 47, 46, 45, 44, 43, 42, 41, 40, 39, 38, 37, 36, 35, 34, 33,\n",
       "       32, 31, 30, 29, 28, 27, 26, 25, 24, 23, 22, 21, 20, 19, 18, 17, 16,\n",
       "       15, 14, 13, 12, 11, 10,  9,  8,  7,  6,  5,  4,  3,  2,  1,  0])"
      ]
     },
     "execution_count": 25,
     "metadata": {},
     "output_type": "execute_result"
    }
   ],
   "source": [
    "model[1][-1][::-1]"
   ]
  },
  {
   "cell_type": "markdown",
   "metadata": {},
   "source": [
    "### 3. Complete dynamic programming"
   ]
  },
  {
   "cell_type": "code",
   "execution_count": 90,
   "metadata": {
    "collapsed": true
   },
   "outputs": [],
   "source": [
    "# INITIALIZATION\n",
    "T = 5     # nb. of time steps\n",
    "X = 5     # nb. of shares to liquidate\n",
    "V = np.zeros((T, X))   # Value function\n",
    "b = np.zeros((T, X))   # Policy iteration"
   ]
  },
  {
   "cell_type": "code",
   "execution_count": 91,
   "metadata": {},
   "outputs": [
    {
     "name": "stdout",
     "output_type": "stream",
     "text": [
      "[[ 100.          100.          100.          100.          100.        ]\n",
      " [ 101.96668838   98.54527058  106.19578359  110.8937671   107.20413549]\n",
      " [  96.33757768  102.00426596  109.67682431  112.64884835  116.73530193]\n",
      " [ 101.87172012  103.14904774  114.63821276  118.57157518  111.88514087]\n",
      " [ 109.49724202  110.30238139  121.10867124  119.3448891   119.8008095 ]]\n"
     ]
    }
   ],
   "source": [
    "# STOCK PATH (S)\n",
    "S = np.zeros((T, X))\n",
    "zeta = np.random.standard_normal((T, X))\n",
    "sigma = 0.05\n",
    "dt = 0.5\n",
    "S[0] = 100.0\n",
    "tau = 1.0\n",
    "r = 0.05\n",
    "\n",
    "for x in range(X):\n",
    "    for t in range(1,T):\n",
    "        S[t,x] = S[t-1,x] * np.exp((r-0.5*sigma**2)*dt + sigma*np.sqrt(dt)*zeta[t,x])\n",
    "        #print(S[t,x])\n",
    "print(np.matrix(S))"
   ]
  },
  {
   "cell_type": "code",
   "execution_count": 92,
   "metadata": {},
   "outputs": [
    {
     "name": "stdout",
     "output_type": "stream",
     "text": [
      "[[   0.           98.54277058  212.38156717  332.65880131  428.77654196]\n",
      " [   0.          102.00176596  219.34364862  337.92404505  466.90120771]\n",
      " [   0.          103.14654774  229.26642551  355.69222555  447.50056349]\n",
      " [   0.          110.29988139  242.20734249  358.01216729  479.16323799]\n",
      " [   0.          110.29988139  242.20734249  358.01216729  479.16323799]]\n"
     ]
    }
   ],
   "source": [
    "# REVENU (R)\n",
    "R = np.zeros((T, X))\n",
    "for x in range(X):\n",
    "    for t in range(1,T):\n",
    "        R[t,x] = R[t-1,x] = x * (S[t,x] - g(x))\n",
    "\n",
    "print(np.matrix(R))"
   ]
  },
  {
   "cell_type": "code",
   "execution_count": 103,
   "metadata": {},
   "outputs": [
    {
     "name": "stdout",
     "output_type": "stream",
     "text": [
      "[[ 0.  0.  0.  0.  0.]\n",
      " [ 0.  0.  0.  0.  0.]\n",
      " [ 0.  0.  0.  0.  0.]\n",
      " [ 0.  0.  0.  0.  0.]\n",
      " [ 1.  0.  0.  0.  0.]]\n"
     ]
    }
   ],
   "source": [
    "# TERMINAL CONDITION\n",
    "gamma = 0.5\n",
    "for x in range(X):\n",
    "    V[T-1,x] = np.exp(-gamma * (R[T-1,x] + x * (S[T-1,x] - 1)))\n",
    "print(np.matrix(V).round(2))"
   ]
  },
  {
   "cell_type": "code",
   "execution_count": null,
   "metadata": {
    "collapsed": true
   },
   "outputs": [],
   "source": [
    "# BACKWARD INDUCTION\n",
    "for t in range(T-2,-1,-1):\n",
    "    for x in range(X):\n",
    "        best_value = "
   ]
  },
  {
   "cell_type": "code",
   "execution_count": null,
   "metadata": {
    "collapsed": true
   },
   "outputs": [],
   "source": []
  }
 ],
 "metadata": {
  "kernelspec": {
   "display_name": "Python 3",
   "language": "python",
   "name": "python3"
  },
  "language_info": {
   "codemirror_mode": {
    "name": "ipython",
    "version": 3
   },
   "file_extension": ".py",
   "mimetype": "text/x-python",
   "name": "python",
   "nbconvert_exporter": "python",
   "pygments_lexer": "ipython3",
   "version": "3.6.4"
  }
 },
 "nbformat": 4,
 "nbformat_minor": 2
}
