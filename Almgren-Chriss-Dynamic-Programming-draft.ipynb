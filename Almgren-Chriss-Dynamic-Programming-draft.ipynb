{
 "cells": [
  {
   "cell_type": "markdown",
   "metadata": {},
   "source": [
    "# Almgren-Chriss Optimal Execution - Dynamic Programming\n",
    "\n",
    "## 1. Model\n",
    "\n",
    "The **Almgren-Chriss framework** (1999) is a mathematical model that looks to estimate the optimal pace to build/unwind a trading position, issues often faced by brokers and traders but has not seen as much interest from statisticians, economists and econophysicists in the past decades. Compared to Bertsimas-Lo (1998), Almgren-Chriss established the existence of a trade-off between fast execution (limited liquidity, high market impact, high transaction costs) and slow execution (exposure to price fluctuations). Other interesting facets of the Almgren-Chriss framework include:\n",
    "\n",
    "- Allows one to graphically represent the trade-off between slow/fast execution;\n",
    "- Ease to choose one's own prefered approach to model market impact costs;\n",
    "- Avoids the temptation of modelling the market as a physical system fully enclosed in its own data (*physics envy*);\n",
    "- Designed from a bottom-top approach: the modelling is based on the execution process itself;\n",
    "- Provides a multitude of modelling approaches to compute the slow/fast execution trade-off (e.g. dynamic programming, stochastic control, reinforcement learning, etc.).\n",
    "\n",
    "We will present 2 approaches to solve the Almgren-Chriss model:\n",
    "\n",
    "1. Dynamic programming\n",
    "2. Closed-form solution (original method)\n",
    "\n",
    "\n",
    "## 2. Dynamic programming\n",
    "\n",
    "### 2.1. Market impact functions"
   ]
  },
  {
   "cell_type": "code",
   "execution_count": 651,
   "metadata": {
    "collapsed": true
   },
   "outputs": [],
   "source": [
    "import numpy as np\n",
    "import pandas as pd\n",
    "import time\n",
    "import math\n",
    "import matplotlib.pyplot as plt"
   ]
  },
  {
   "cell_type": "markdown",
   "metadata": {},
   "source": [
    "Utilities for the implementation of Almgren-Chriss. For the market impact functions, we will follow the model assumptions made by Almgren, Thum, Hauptmann and Li (2005). Since we cannot estimate both permanent and temporary impact functions, we need to make assumptions on the structure of both functions.\n",
    "\n",
    "- **Temporary market impact function**: Almgren and al. (2005) through empirical evidence indicate that this function should be concave, where $0<\\beta<1$. The authors choose $\\beta=0.5$.\n",
    "\n",
    "$$ h(\\frac{n_k}{\\tau}) = \\epsilon \\, sign(n_k) + \\eta \\frac{n_k}{\\tau} $$\n",
    "\n",
    "We could also used:\n",
    "\n",
    "$$ h(\\frac{n_k}{\\tau}) = \\eta |v|^{\\beta} $$\n",
    "\n",
    "- **Permanent market impact function**: Almgren and al. (2005) take $\\alpha=1$ for practical simplification, to make the model free of arbitrage and have permanent impact independent of trading.\n",
    "\n",
    "$$ g(v) = \\gamma |v|^{\\alpha} $$\n",
    "\n",
    "- **Hamiltonian equation**\n",
    "\n",
    "$$ H(x,n) = \\gamma ng(\\frac{n}{\\tau}) + \\gamma (x-n) \\tau h(\\frac{n}{\\tau}) + \\frac{1}{2} \\gamma^2 (x-n)^2 \\sigma^2 \\tau $$"
   ]
  },
  {
   "cell_type": "code",
   "execution_count": 682,
   "metadata": {
    "collapsed": true
   },
   "outputs": [],
   "source": [
    "# Utilities\n",
    "def h(v, tau=1.0):\n",
    "    \"\"\"\n",
    "    Temporary market impact function.\n",
    "    \n",
    "    Inputs\n",
    "    - u/tau, speed of trading\n",
    "    \"\"\"\n",
    "    epsilon = 0.0625\n",
    "    eta = 2.5 * 10 ** (-7)\n",
    "    return epsilon * np.sign(v) + eta * (v/tau) ** (1/2)\n",
    "\n",
    "def g(v, gamma=1.0):\n",
    "    \"\"\"\n",
    "    Permanent market impact function.\n",
    "    \"\"\"\n",
    "    return gamma * v ** (2/3)\n",
    "\n",
    "def H(x, n, sigma=0.3, tau=1.0, gamma=1.0):\n",
    "    \"\"\"\n",
    "    Hamiltonian equation. To be minimized through dynamic programming.\n",
    "    \"\"\"\n",
    "    # gamma = 0.1\n",
    "    res = n * g(n/tau, gamma) + (x-n)*tau*h(n,tau) + 0.5*(gamma**2)*(sigma**2)*tau*((x-n)**2)\n",
    "    return res"
   ]
  },
  {
   "cell_type": "markdown",
   "metadata": {},
   "source": [
    "### 2.2. Dynamic programming: a simplified version\n",
    "\n",
    "Bellman equation with change of variable (made in our to solve the curse of dimensionality):\n",
    "\n",
    "- **Terminal condition**\n",
    "\n",
    "$$ u(x,T-1) = e^{\\gamma x g(x/\\tau)} $$\n",
    "\n",
    "- **Backward induction**\n",
    "\n",
    "$$ u(x,t) = \\min_{0<n<x} u(x-n,t+1) e^{\\gamma n g(\\frac{n}{\\tau}) + \\gamma (x-n) \\tau h(\\frac{n}{\\tau}) + \\frac{1}{2} \\gamma^2 (x-n)^2 \\sigma^2 \\tau} $$\n",
    "\n",
    "Python implementation:"
   ]
  },
  {
   "cell_type": "code",
   "execution_count": 683,
   "metadata": {},
   "outputs": [],
   "source": [
    "def dynamic_programming(nb_T, X_total, tau=1.0, gamma=2.5*10**(-7), sigma=0.3):\n",
    "    \n",
    "    \"\"\"\n",
    "    MODEL\n",
    "    Bellman equation and value iteration for solving the Markov\n",
    "    Decision Process of the Almgren-Chriss model.\n",
    "    \n",
    "    INPUTS\n",
    "    - nb_T, number of time steps\n",
    "    - X_total, number of shares to be liquidated\n",
    "    \n",
    "    - tau, A\n",
    "    - gamma, A\n",
    "    \n",
    "    To consider:\n",
    "    - parameters in the market impact functions\n",
    "    - different market impact functions (cf. Almgren paper)\n",
    "    \n",
    "    \"\"\"\n",
    "    start_time = time.time()\n",
    "    \n",
    "    ### Initialization\n",
    "    u = np.zeros(shape=(nb_T, X_total+1), dtype=\"float64\")      # value function\n",
    "    b = np.zeros(shape=(nb_T, X_total+1), dtype=\"int\")        # best move\n",
    "    inventoryforX = np.zeros(shape=(nb_T,1), dtype=\"int\")     # evolution of inventory\n",
    "    inventoryforX[0] = X_total\n",
    "    N = []  # optimal selling trajectory\n",
    "    \n",
    "    ### Market microstructure: volatility, correlation\n",
    "    ### [insert dynamic volatility data]\n",
    "    \n",
    "    ### Terminal condition\n",
    "    for x in range(X_total+1):\n",
    "        u[nb_T - 1, x] = np.exp(gamma * x * h(x/tau, gamma))\n",
    "        b[nb_T - 1, x] = x\n",
    "    \n",
    "    ### Backwards induction\n",
    "    for t in range(nb_T-2, -1, -1):\n",
    "        \n",
    "        print(t+1, round(time.time() - start_time, 2))\n",
    "    \n",
    "        for x in range(X_total+1):\n",
    "            \n",
    "            best_value = u[t+1,0] * np.exp(gamma * H(x, x, tau, gamma))\n",
    "            best_n = x\n",
    "            \n",
    "            for n in range(x):\n",
    "                # We compute the utility function if we sell n shares\n",
    "                current_value = u[t+1,x-n] * np.exp(gamma * H(x, n, tau, gamma))\n",
    "                \n",
    "                if current_value < best_value:\n",
    "                    best_value = current_value\n",
    "                    best_n = n   # nb of shares to liquidate\n",
    "               \n",
    "            u[t,x] = best_value\n",
    "            b[t,x] = best_n\n",
    "    \n",
    "    ### Optimal trajectory\n",
    "    for t in range(1, nb_T):\n",
    "        inventoryforX[t] = inventoryforX[t-1] - b[t,inventoryforX[t-1]]\n",
    "        N.append(b[t,inventoryforX[t-1]])\n",
    "    \n",
    "    N = np.asarray(N)\n",
    "            \n",
    "    print('Completed:', round(time.time() - start_time, 2))\n",
    "    \n",
    "    ### Plot results\n",
    "    plt.figure(figsize=(7,5))\n",
    "    plt.plot(inventoryforX, marker='o', color='blue')\n",
    "    plt.xlabel('Day')\n",
    "    plt.ylabel('Number of shares')\n",
    "    plt.grid(True)\n",
    "    plt.show()\n",
    "    \n",
    "    return u, b, inventoryforX, N"
   ]
  },
  {
   "cell_type": "markdown",
   "metadata": {},
   "source": [
    "## 3. Backtests\n",
    "\n",
    "### 3.1. Ensuring that we get a *curved* liquidation\n",
    "\n",
    "The dynamic programming algorithm is extremely unstable to changes in parameter such as $\\gamma$ or $\\tau$. Suppose we test $\\gamma = 2.5 \\times 10^{-2} $ and $\\tau=8$, then we get a reasonable liquidation:"
   ]
  },
  {
   "cell_type": "code",
   "execution_count": 684,
   "metadata": {},
   "outputs": [
    {
     "name": "stdout",
     "output_type": "stream",
     "text": [
      "9 0.0\n",
      "8 0.05\n",
      "7 0.09\n",
      "6 0.12\n",
      "5 0.15\n",
      "4 0.18\n",
      "3 0.22\n",
      "2 0.26\n",
      "1 0.29\n",
      "Completed: 0.33\n"
     ]
    },
    {
     "data": {
      "image/png": "[encoded data removed]",
      "text/plain": [
       "<matplotlib.figure.Figure at 0x2e4c0da4f98>"
      ]
     },
     "metadata": {},
     "output_type": "display_data"
    }
   ],
   "source": [
    "u, b, eps, N = dynamic_programming(nb_T=10, X_total=100, tau=8.0, gamma=2.5*10**(-2))"
   ]
  },
  {
   "cell_type": "markdown",
   "metadata": {},
   "source": [
    "But then if we test $\\gamma = 2.5 \\times 10^{-3} $ and $\\tau=8$, our algorithm essentially tells us that we should liquidate over 90% of our portfolio only on the final day, which is ridiculous: "
   ]
  },
  {
   "cell_type": "code",
   "execution_count": 689,
   "metadata": {},
   "outputs": [
    {
     "name": "stdout",
     "output_type": "stream",
     "text": [
      "9 0.0\n",
      "8 0.04\n",
      "7 0.08\n",
      "6 0.11\n",
      "5 0.15\n",
      "4 0.18\n",
      "3 0.21\n",
      "2 0.25\n",
      "1 0.29\n",
      "Completed: 0.33\n"
     ]
    },
    {
     "data": {
      "image/png": "[encoded data removed]",
      "text/plain": [
       "<matplotlib.figure.Figure at 0x2e4c0b91048>"
      ]
     },
     "metadata": {},
     "output_type": "display_data"
    }
   ],
   "source": [
    "u, b, eps, N = dynamic_programming(nb_T=10, X_total=100, tau=8.0, gamma=2.5*10**(-3))"
   ]
  },
  {
   "cell_type": "markdown",
   "metadata": {},
   "source": [
    "Now if we test $\\gamma = 2.5 \\times 10^{-3} $ and $\\tau=100$, we get the reasonably shaped:"
   ]
  },
  {
   "cell_type": "code",
   "execution_count": 677,
   "metadata": {},
   "outputs": [
    {
     "name": "stdout",
     "output_type": "stream",
     "text": [
      "9 0.0\n",
      "8 0.05\n",
      "7 0.08\n",
      "6 0.11\n",
      "5 0.15\n",
      "4 0.18\n",
      "3 0.21\n",
      "2 0.25\n",
      "1 0.28\n",
      "Completed: 0.32\n"
     ]
    },
    {
     "data": {
      "image/png": "[encoded data removed]",
      "text/plain": [
       "<matplotlib.figure.Figure at 0x2e4c1cdae48>"
      ]
     },
     "metadata": {},
     "output_type": "display_data"
    }
   ],
   "source": [
    "u, b, eps, N = dynamic_programming(nb_T=10, X_total=100, tau=100.0, gamma=2.5*10**(-3))"
   ]
  },
  {
   "cell_type": "code",
   "execution_count": 678,
   "metadata": {},
   "outputs": [
    {
     "data": {
      "text/plain": [
       "array([[67],\n",
       "       [20],\n",
       "       [ 7],\n",
       "       [ 3],\n",
       "       [ 1],\n",
       "       [ 1],\n",
       "       [ 0],\n",
       "       [ 0],\n",
       "       [ 1]])"
      ]
     },
     "execution_count": 678,
     "metadata": {},
     "output_type": "execute_result"
    }
   ],
   "source": [
    "N"
   ]
  },
  {
   "cell_type": "markdown",
   "metadata": {},
   "source": [
    "But the parameter values we gave here are extremely high and are unlikely to correspond to the actual values used in any Almgren-Chriss implementation. Let's try to liquidate 10000 shares:"
   ]
  },
  {
   "cell_type": "code",
   "execution_count": 698,
   "metadata": {},
   "outputs": [
    {
     "name": "stdout",
     "output_type": "stream",
     "text": [
      "9 0.0\n",
      "8 3.83\n",
      "7 7.65\n",
      "6 11.61\n",
      "5 15.42\n",
      "4 19.45\n",
      "3 23.25\n",
      "2 27.2\n",
      "1 31.05\n",
      "Completed: 35.05\n"
     ]
    },
    {
     "data": {
      "image/png": "[encoded data removed]",
      "text/plain": [
       "<matplotlib.figure.Figure at 0x2e4c0e11cf8>"
      ]
     },
     "metadata": {},
     "output_type": "display_data"
    }
   ],
   "source": [
    "u, b, eps, N = dynamic_programming(nb_T=10, X_total=1000, tau=100000, gamma=2.5*10**(-7))"
   ]
  },
  {
   "cell_type": "code",
   "execution_count": 710,
   "metadata": {},
   "outputs": [
    {
     "name": "stdout",
     "output_type": "stream",
     "text": [
      "5 0.02\n",
      "4 103.5\n",
      "3 204.61\n",
      "2 305.6\n",
      "1 407.45\n",
      "Completed: 509.64\n"
     ]
    },
    {
     "data": {
      "image/png": "[encoded data removed]",
      "text/plain": [
       "<matplotlib.figure.Figure at 0x2e4c1c83898>"
      ]
     },
     "metadata": {},
     "output_type": "display_data"
    }
   ],
   "source": [
    "u, b, eps, N = dynamic_programming(nb_T=6, X_total=5000, tau=10**12, gamma=2.5*10**(-15))"
   ]
  },
  {
   "cell_type": "code",
   "execution_count": 717,
   "metadata": {},
   "outputs": [
    {
     "name": "stdout",
     "output_type": "stream",
     "text": [
      "10 0.02\n"
     ]
    },
    {
     "name": "stderr",
     "output_type": "stream",
     "text": [
      "C:\\Anaconda\\lib\\site-packages\\ipykernel_launcher.py:49: RuntimeWarning: overflow encountered in exp\n"
     ]
    },
    {
     "name": "stdout",
     "output_type": "stream",
     "text": [
      "9 120.74\n"
     ]
    },
    {
     "name": "stderr",
     "output_type": "stream",
     "text": [
      "C:\\Anaconda\\lib\\site-packages\\ipykernel_launcher.py:49: RuntimeWarning: overflow encountered in double_scalars\n"
     ]
    },
    {
     "name": "stdout",
     "output_type": "stream",
     "text": [
      "8 239.88\n",
      "7 358.47\n",
      "6 476.32\n",
      "5 594.5\n",
      "4 712.43\n",
      "3 937.31\n",
      "2 1190.28\n",
      "1 1442.1\n",
      "Completed: 1692.07\n"
     ]
    },
    {
     "data": {
      "image/png": "[encoded data removed]",
      "text/plain": [
       "<matplotlib.figure.Figure at 0x2e4c0cffef0>"
      ]
     },
     "metadata": {},
     "output_type": "display_data"
    }
   ],
   "source": [
    "u, b, eps, N = dynamic_programming(nb_T=11, X_total=5000, tau=15**11, gamma=2.5*10**(-15))"
   ]
  }
 ],
 "metadata": {
  "kernelspec": {
   "display_name": "Python 3",
   "language": "python",
   "name": "python3"
  },
  "language_info": {
   "codemirror_mode": {
    "name": "ipython",
    "version": 3
   },
   "file_extension": ".py",
   "mimetype": "text/x-python",
   "name": "python",
   "nbconvert_exporter": "python",
   "pygments_lexer": "ipython3",
   "version": "3.6.3"
  }
 },
 "nbformat": 4,
 "nbformat_minor": 2
}
