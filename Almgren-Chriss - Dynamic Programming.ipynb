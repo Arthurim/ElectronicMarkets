{
 "cells": [
  {
   "cell_type": "markdown",
   "metadata": {},
   "source": [
    "# Almgren-Chriss Optimal Execution - Dynamic Programming\n",
    "\n",
    "## Syllabus\n",
    "\n",
    "1. Almgren-Chriss framework\n",
    "2. Dynamic programming\n",
    "3. Vanilla implementation\n",
    "4. From market orders to limit orders\n",
    "\n",
    "## 1. Almgren-Chriss framework\n",
    "\n",
    "The **Almgren-Chriss framework** (1999) is a mathematical model that looks to:\n",
    "\n",
    "- Estimate the optimal pace to build/unwind a trading position, issues often faced by brokers and traders (but has not seen as much interest from statisticians, economists and econophysicists in the past decades);\n",
    "- Allows one to graphically represent the trade-off between slow/fast execution;\n",
    "- Ease to choose one's own prefered approach to model market impact costs;\n",
    "- Avoids the temptation of modelling the market as a physical system fully enclosed in its own data (*physics envy*);\n",
    "- Designed from a bottom-top approach: the modelling is based on the execution process itself;\n",
    "- Provides a multitude of modelling approaches to compute the slow/fast execution trade-off (e.g. KKT nonlinear optimization, dynamic programming, stochastic control, reinforcement learning, etc.).\n",
    "\n",
    "We will present 2 approaches to solve the Almgren-Chriss model:\n",
    "\n",
    "- Quadratic Programming (original method by Almgren-Chriss)\n",
    "- Dynamic Programming\n",
    "\n",
    "This notebook will focus on the **dynamic programming** approach.\n",
    "\n",
    "\n",
    "## 2. Dynamic programming\n",
    "\n",
    "### 2.1. Market impact functions"
   ]
  },
  {
   "cell_type": "code",
   "execution_count": 148,
   "metadata": {
    "collapsed": true
   },
   "outputs": [],
   "source": [
    "import numpy as np\n",
    "import pandas as pd\n",
    "import time\n",
    "import matplotlib.pyplot as plt"
   ]
  },
  {
   "cell_type": "markdown",
   "metadata": {},
   "source": [
    "Utilities for the implementation of Almgren-Chriss. For the market impact functions, we will follow the model assumptions made by Almgren, Thum, Hauptmann and Li (2005). Since we cannot estimate both permanent and temporary impact functions, we need to make assumptions on the structure of both functions.\n",
    "\n",
    "- **Temporary market impact function**: Almgren and al. (2005) through empirical evidence indicate that this function should be concave, where $0<\\beta<1$. The authors choose $\\beta=0.5$.\n",
    "\n",
    "$$ h \\left(\\frac{n_k}{\\tau}\\right) = \\epsilon \\, sign(n_k) + \\eta \\frac{n_k}{\\tau} $$\n",
    "\n",
    "We could also used:\n",
    "\n",
    "$$ h \\left(\\frac{n_k}{\\tau}\\right) = \\eta |v|^{\\beta} $$\n",
    "\n",
    "- **Permanent market impact function**: Almgren and al. (2005) take $\\alpha=1$ for practical simplification, to make the model free of arbitrage and have permanent impact independent of trading.\n",
    "\n",
    "$$ g(v) = \\gamma |v|^{\\alpha} $$\n",
    "\n",
    "- **Hamiltonian equation**\n",
    "\n",
    "$$ H(x,n) = \\psi n g \\left(\\frac{n}{\\tau}\\right) + \\psi (x-n) \\tau h \\left(\\frac{n}{\\tau}\\right) + \\frac{1}{2} \\psi^2 (x-n)^2 \\sigma^2 \\tau $$"
   ]
  },
  {
   "cell_type": "code",
   "execution_count": 162,
   "metadata": {
    "collapsed": true
   },
   "outputs": [],
   "source": [
    "# Utilities\n",
    "def h(v, tau=1.0, eta = 2.5*10**(-6)):\n",
    "    \"\"\"\n",
    "    Temporary market impact function.\n",
    "    \n",
    "    Inputs\n",
    "    - u/tau, speed of trading\n",
    "    \"\"\"\n",
    "    epsilon = 0.0625\n",
    "    return epsilon * np.sign(v) + eta * (v/tau)\n",
    "\n",
    "def g(v, gamma=2.5*10**(-7)):\n",
    "    \"\"\"\n",
    "    Permanent market impact function.\n",
    "    \"\"\"\n",
    "    return gamma * v\n",
    "\n",
    "def H(x, n, psi, sigma=0.3, tau=0.5):\n",
    "    \"\"\"\n",
    "    Hamiltonian equation. To be minimized through dynamic programming.\n",
    "    \"\"\"\n",
    "    # gamma = 0.1\n",
    "    res = psi * n * g(n/tau) + psi*(x-n)*tau*h(n,tau) + 0.5*(psi**2)*(sigma**2)*tau*((x-n)**2)\n",
    "    return res"
   ]
  },
  {
   "cell_type": "markdown",
   "metadata": {},
   "source": [
    "### 2.2. Dynamic programming: a simplified version\n",
    "\n",
    "Bellman equation with change of variable (made in our to solve the curse of dimensionality):\n",
    "\n",
    "- **Terminal condition**\n",
    "\n",
    "$$ u(x,T-1) = \\exp \\left[\\psi x g \\left(\\frac{x}{\\tau} \\right) \\right] $$\n",
    "\n",
    "- **Backward induction**\n",
    "\n",
    "$$ u(x,t) = \\min_{0<n<x} u(x-n,t+1) \\, \\exp \\left[\\psi n g \\left(\\frac{n}{\\tau}\\right) + \\psi (x-n) \\tau h \\left(\\frac{n}{\\tau}\\right) + \\frac{1}{2} \\psi^2 (x-n)^2 \\sigma^2 \\tau \\right] $$\n",
    "\n",
    "Python implementation:"
   ]
  },
  {
   "cell_type": "code",
   "execution_count": 163,
   "metadata": {
    "collapsed": true
   },
   "outputs": [],
   "source": [
    "def dynamic_programming(nb_T, X_total, psi, plot='True'):\n",
    "    \n",
    "    \"\"\"\n",
    "    MODEL\n",
    "    - Bellman equation and value iteration for solving the Markov\n",
    "      Decision Process of the Almgren-Chriss model.\n",
    "    \n",
    "    INPUTS\n",
    "    - nb_T,       number of time steps\n",
    "    - X_total,    number of shares to be liquidated\n",
    "    - psi,        risk aversion\n",
    "    \"\"\"\n",
    "    \n",
    "    ### Initialization\n",
    "    u = np.zeros(shape=(nb_T, X_total+1), dtype=\"float64\")      # value function\n",
    "    b = np.zeros(shape=(nb_T, X_total+1), dtype=\"int\")          # best move\n",
    "    inventoryforX = np.zeros(shape=(nb_T,1), dtype=\"int\")       # evolution of inventory\n",
    "    inventoryforX[0] = X_total\n",
    "    N = []                                                      # optimal selling trajectory\n",
    "    tau = 0.5\n",
    "    \n",
    "    ### Market microstructure: volatility, correlation\n",
    "    ### [insert dynamic volatility data]\n",
    "    \n",
    "    ### Terminal condition\n",
    "    for x in range(X_total+1):\n",
    "        u[nb_T - 1, x] = np.exp(x * h(x/tau))\n",
    "        b[nb_T - 1, x] = x\n",
    "    \n",
    "    ### Backwards induction\n",
    "    for t in range(nb_T-2, -1, -1):\n",
    "        for x in range(X_total+1):\n",
    "            \n",
    "            best_value = u[t+1,0] * np.exp(H(x, x, psi))\n",
    "            best_n = x\n",
    "            \n",
    "            for n in range(x):\n",
    "                # We compute the utility function if we sell n shares\n",
    "                current_value = u[t+1,x-n] * np.exp(H(x, n, psi))\n",
    "                \n",
    "                if current_value < best_value:\n",
    "                    best_value = current_value\n",
    "                    best_n = n   # nb of shares to liquidate\n",
    "               \n",
    "            u[t,x] = best_value\n",
    "            b[t,x] = best_n\n",
    "    \n",
    "    ### Optimal trajectory\n",
    "    for t in range(1, nb_T):\n",
    "        inventoryforX[t] = inventoryforX[t-1] - b[t,inventoryforX[t-1]]\n",
    "        N.append(b[t,inventoryforX[t-1]])\n",
    "    \n",
    "    N = np.asarray(N)\n",
    "    \n",
    "    ### Plot results\n",
    "    if plot=='True':\n",
    "        plt.figure(figsize=(7,5))\n",
    "        plt.plot(inventoryforX, marker='o', color='blue')\n",
    "        plt.xlabel('Day')\n",
    "        plt.ylabel('Number of shares')\n",
    "        plt.grid(True)\n",
    "        plt.show()\n",
    "    \n",
    "    return u, b, inventoryforX, N"
   ]
  },
  {
   "cell_type": "markdown",
   "metadata": {},
   "source": [
    "## 3. Vanilla implementation\n",
    "\n",
    "### 3.1. Risk aversion $\\psi$\n",
    "\n",
    "- $\\psi = 0.01$"
   ]
  },
  {
   "cell_type": "code",
   "execution_count": null,
   "metadata": {
    "scrolled": false
   },
   "outputs": [
    {
     "name": "stderr",
     "output_type": "stream",
     "text": [
      "C:\\Anaconda\\lib\\site-packages\\ipykernel_launcher.py:27: RuntimeWarning: overflow encountered in exp\n",
      "C:\\Anaconda\\lib\\site-packages\\ipykernel_launcher.py:39: RuntimeWarning: overflow encountered in double_scalars\n"
     ]
    }
   ],
   "source": [
    "u, b, eps, N = dynamic_programming(nb_T=5, X_total=10000, psi=0.01, plot='True')\n",
    "print(np.matrix(u))\n",
    "print(np.matrix(b))"
   ]
  },
  {
   "cell_type": "markdown",
   "metadata": {},
   "source": []
  },
  {
   "cell_type": "code",
   "execution_count": null,
   "metadata": {
    "collapsed": true
   },
   "outputs": [],
   "source": []
  },
  {
   "cell_type": "markdown",
   "metadata": {},
   "source": [
    "## 4. From market orders to limit orders"
   ]
  },
  {
   "cell_type": "code",
   "execution_count": null,
   "metadata": {
    "collapsed": true
   },
   "outputs": [],
   "source": []
  }
 ],
 "metadata": {
  "kernelspec": {
   "display_name": "Python 3",
   "language": "python",
   "name": "python3"
  },
  "language_info": {
   "codemirror_mode": {
    "name": "ipython",
    "version": 3
   },
   "file_extension": ".py",
   "mimetype": "text/x-python",
   "name": "python",
   "nbconvert_exporter": "python",
   "pygments_lexer": "ipython3",
   "version": "3.6.3"
  }
 },
 "nbformat": 4,
 "nbformat_minor": 2
}
