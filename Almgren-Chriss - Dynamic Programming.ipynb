{
 "cells": [
  {
   "cell_type": "markdown",
   "metadata": {},
   "source": [
    "# Almgren-Chriss Optimal Execution - Dynamic Programming\n",
    "\n",
    "## Syllabus\n",
    "\n",
    "1. Almgren-Chriss framework\n",
    "2. Dynamic programming\n",
    "3. Vanilla implementation\n",
    "4. From market orders to limit orders\n",
    "\n",
    "## 1. Almgren-Chriss framework\n",
    "\n",
    "The **Almgren-Chriss framework** (1999) is a mathematical model that looks to:\n",
    "\n",
    "- Estimate the optimal pace to build/unwind a trading position, issues often faced by brokers and traders (but has not seen as much interest from statisticians, economists and econophysicists in the past decades);\n",
    "- Allows one to graphically represent the trade-off between slow/fast execution;\n",
    "- Ease to choose one's own prefered approach to model market impact costs;\n",
    "- Avoids the temptation of modelling the market as a physical system fully enclosed in its own data (*physics envy*);\n",
    "- Designed from a bottom-top approach: the modelling is based on the execution process itself;\n",
    "- Provides a multitude of modelling approaches to compute the slow/fast execution trade-off (e.g. KKT nonlinear optimization, dynamic programming, stochastic control, reinforcement learning, etc.).\n",
    "\n",
    "We will present 2 approaches to solve the Almgren-Chriss model:\n",
    "\n",
    "- Quadratic Programming (original method by Almgren-Chriss)\n",
    "- Dynamic Programming\n",
    "\n",
    "This notebook will focus on the **dynamic programming** approach.\n",
    "\n",
    "\n",
    "## 2. Dynamic programming\n",
    "\n",
    "### 2.1. Market impact functions"
   ]
  },
  {
   "cell_type": "code",
   "execution_count": 1,
   "metadata": {
    "collapsed": true
   },
   "outputs": [],
   "source": [
    "import numpy as np\n",
    "import pandas as pd\n",
    "import time\n",
    "import matplotlib.pyplot as plt"
   ]
  },
  {
   "cell_type": "markdown",
   "metadata": {},
   "source": [
    "- Temporary market impact:\n",
    "\n",
    "$$ h(x) = \\eta \\, x^{\\alpha} $$\n",
    "\n",
    "- *Permanent market impact*:\n",
    "\n",
    "$$ g(x) = \\gamma \\, v^{\\beta} $$\n",
    "\n",
    "- *Hamiltonian*\n",
    "\n",
    "$$ H(x,n) = \\psi n g \\left(\\frac{n}{\\tau}\\right) + \\psi (x-n) \\tau h \\left(\\frac{n}{\\tau}\\right) + \\frac{1}{2} \\psi^2 (x-n)^2 \\sigma^2 \\tau $$"
   ]
  },
  {
   "cell_type": "code",
   "execution_count": 2,
   "metadata": {
    "collapsed": true
   },
   "outputs": [],
   "source": [
    "# Utilities\n",
    "def h(x, alpha, eta):\n",
    "    return eta * x ** (alpha)\n",
    "\n",
    "def g(x, beta, gamma):\n",
    "    return gamma * x ** (beta)\n",
    "\n",
    "def H(x,n,psi,alpha,beta,gamma,eta,sigma=0.3,tau=0.5):\n",
    "    \"\"\"\n",
    "    Hamiltonian equation. To be minimized through dynamic programming.\n",
    "    \"\"\"\n",
    "    res = psi*n*g(n/tau,beta,gamma) + psi*(x-n)*tau*h(n/tau,alpha,eta) + 0.5*(psi**2)*(sigma**2)*tau*((x-n)**2)\n",
    "    return res"
   ]
  },
  {
   "cell_type": "markdown",
   "metadata": {},
   "source": [
    "### 2.2. Dynamic programming: a simplified version\n",
    "\n",
    "Bellman equation with change of variable (made in our to solve the curse of dimensionality):\n",
    "\n",
    "- **Terminal condition**\n",
    "\n",
    "$$ u(x,T-1) = \\exp \\left[\\psi x g \\left(\\frac{x}{\\tau} \\right) \\right] $$\n",
    "\n",
    "- **Backward induction**\n",
    "\n",
    "$$ u(x,t) = \\min_{0<n<x} u(x-n,t+1) \\, \\exp \\left[\\psi n g \\left(\\frac{n}{\\tau}\\right) + \\psi (x-n) \\tau h \\left(\\frac{n}{\\tau}\\right) + \\frac{1}{2} \\psi^2 (x-n)^2 \\sigma^2 \\tau \\right] $$\n",
    "\n",
    "Python implementation:"
   ]
  },
  {
   "cell_type": "code",
   "execution_count": 3,
   "metadata": {},
   "outputs": [],
   "source": [
    "def dynamic_programming(nb_T, X_total, psi, alpha, beta, gamma, eta, plot='True'):\n",
    "    \n",
    "    \"\"\"\n",
    "    MODEL\n",
    "    - Bellman equation and value iteration for solving the Markov\n",
    "      Decision Process of the Almgren-Chriss model.\n",
    "    \n",
    "    INPUTS\n",
    "    - nb_T,       number of time steps\n",
    "    - X_total,    number of shares to be liquidated\n",
    "    - psi,        risk aversion\n",
    "    \"\"\"\n",
    "    \n",
    "    ### Initialization\n",
    "    u = np.zeros(shape=(nb_T, X_total+1), dtype=\"float64\")      # value function\n",
    "    b = np.zeros(shape=(nb_T, X_total+1), dtype=\"int\")          # best move\n",
    "    inventoryforX = np.zeros(shape=(nb_T,1), dtype=\"int\")       # evolution of inventory\n",
    "    inventoryforX[0] = X_total\n",
    "    N = []                                                      # optimal selling trajectory\n",
    "    tau = 0.5\n",
    "    \n",
    "    ### Market microstructure: volatility, correlation\n",
    "    ### [insert dynamic volatility data]\n",
    "    \n",
    "    ### Terminal condition\n",
    "    for x in range(X_total+1):\n",
    "        u[nb_T - 1, x] = np.exp(x * h(x/tau, alpha, eta))\n",
    "        b[nb_T - 1, x] = x\n",
    "    \n",
    "    ### Backwards induction\n",
    "    for t in range(nb_T-2, -1, -1):\n",
    "        for x in range(X_total+1):\n",
    "            \n",
    "            best_value = u[t+1,0] * np.exp(H(x, x, psi, alpha, beta, gamma, eta))\n",
    "            best_n = x\n",
    "            \n",
    "            for n in range(x):\n",
    "                # We compute the utility function if we sell n shares\n",
    "                current_value = u[t+1,x-n] * np.exp(H(x, n, psi, alpha, beta, gamma, eta))\n",
    "                \n",
    "                if current_value < best_value:\n",
    "                    best_value = current_value\n",
    "                    best_n = n   # nb of shares to liquidate\n",
    "               \n",
    "            u[t,x] = best_value\n",
    "            b[t,x] = best_n\n",
    "    \n",
    "    ### Optimal trajectory\n",
    "    for t in range(1, nb_T):\n",
    "        inventoryforX[t] = inventoryforX[t-1] - b[t,inventoryforX[t-1]]\n",
    "        N.append(b[t,inventoryforX[t-1]])\n",
    "    \n",
    "    N = np.asarray(N)\n",
    "    \n",
    "    ### Plot results\n",
    "    if plot=='True':\n",
    "        plt.figure(figsize=(7,5))\n",
    "        plt.plot(inventoryforX, color='blue', lw=1.5)\n",
    "        plt.xlabel('Trading periods')\n",
    "        plt.ylabel('Number of shares')\n",
    "        plt.grid(True)\n",
    "        plt.show()\n",
    "    \n",
    "    return u, b, inventoryforX, N"
   ]
  },
  {
   "cell_type": "markdown",
   "metadata": {},
   "source": [
    "## 3. Vanilla implementation\n",
    "\n",
    "- $T$, number of trading periods\n",
    "- $X$, inventory to be liquidated\n",
    "- $\\psi$, risk aversion coefficient\n",
    "- $\\alpha$, power of temporary impact\n",
    "- $\\beta$, power of permanent impact\n",
    "- $\\gamma$, magnitude of permanent impact\n",
    "- $\\eta$, magnitude of temporary impact\n",
    "\n",
    "Let's do a series of hyperparameter tests:\n",
    "\n",
    "### 3.1. Parameter $\\gamma$"
   ]
  },
  {
   "cell_type": "code",
   "execution_count": 10,
   "metadata": {
    "scrolled": false
   },
   "outputs": [
    {
     "name": "stderr",
     "output_type": "stream",
     "text": [
      "C:\\Anaconda\\lib\\site-packages\\ipykernel_launcher.py:27: RuntimeWarning: overflow encountered in exp\n",
      "C:\\Anaconda\\lib\\site-packages\\ipykernel_launcher.py:39: RuntimeWarning: overflow encountered in double_scalars\n",
      "C:\\Anaconda\\lib\\site-packages\\ipykernel_launcher.py:34: RuntimeWarning: overflow encountered in exp\n",
      "C:\\Anaconda\\lib\\site-packages\\ipykernel_launcher.py:39: RuntimeWarning: overflow encountered in exp\n"
     ]
    }
   ],
   "source": [
    "u1, b1, p1, N1 = dynamic_programming(nb_T=50, X_total=1000, psi=0.25, alpha=1, beta=1, gamma=0.05, eta=0.1, plot='False')\n",
    "u2, b2, p2, N2 = dynamic_programming(nb_T=50, X_total=1000, psi=0.25, alpha=1, beta=1, gamma=0.05, eta=0.01, plot='False')\n",
    "u3, b3, p3, N3 = dynamic_programming(nb_T=50, X_total=1000, psi=0.25, alpha=1, beta=1, gamma=0.05, eta=0.001, plot='False')\n",
    "u4, b4, p4, N4 = dynamic_programming(nb_T=50, X_total=1000, psi=0.25, alpha=1, beta=1, gamma=0.05, eta=0.0001, plot='False')\n",
    "u5, b5, p5, N5 = dynamic_programming(nb_T=50, X_total=1000, psi=0.25, alpha=1, beta=1, gamma=0.05, eta=0.00001, plot='False')"
   ]
  },
  {
   "cell_type": "code",
   "execution_count": 11,
   "metadata": {},
   "outputs": [
    {
     "data": {
      "image/png": "[encoded data removed]",
      "text/plain": [
       "<matplotlib.figure.Figure at 0x2935a231208>"
      ]
     },
     "metadata": {},
     "output_type": "display_data"
    }
   ],
   "source": [
    "plt.figure(figsize=(9,6))\n",
    "\n",
    "plt.plot(p1, color='blue', lw=1.5, label='$\\gamma=1$')\n",
    "plt.plot(p2, color='red', lw=1.5, label='$\\gamma=0.5$')\n",
    "plt.plot(p3, color='green', lw=1.5, label='$\\gamma=0.25$')\n",
    "plt.plot(p4, color='gold', lw=1.5, label='$\\gamma=0.1$')\n",
    "plt.plot(p5, color='darkorange', lw=1.5, label='$\\gamma=0.01$')\n",
    "\n",
    "plt.xlabel('Trading periods')\n",
    "plt.ylabel('Number of shares')\n",
    "plt.legend(loc='best')\n",
    "plt.grid(True)\n",
    "plt.show()"
   ]
  },
  {
   "cell_type": "markdown",
   "metadata": {},
   "source": [
    "### 3.2. Parameter $\\eta$"
   ]
  },
  {
   "cell_type": "code",
   "execution_count": null,
   "metadata": {
    "collapsed": true
   },
   "outputs": [],
   "source": [
    "u6, b6, p6, N6 = dynamic_programming(nb_T=10, X_total=1000, psi=1, alpha=1, beta=1, gamma=1, eta=1, plot='False')\n",
    "u7, b7, p7, N7 = dynamic_programming(nb_T=10, X_total=1000, psi=1, alpha=1, beta=1, gamma=1, eta=0.5, plot='False')\n",
    "u8, b8, p8, N8 = dynamic_programming(nb_T=10, X_total=1000, psi=1, alpha=1, beta=1, gamma=1, eta=0.25, plot='False')\n",
    "u9, b9, p9, N9 = dynamic_programming(nb_T=10, X_total=1000, psi=1, alpha=1, beta=1, gamma=1, eta=0.1, plot='False')\n",
    "u10, b10, p10, N10 = dynamic_programming(nb_T=10, X_total=1000, psi=1, alpha=1, beta=1, gamma=1, eta=0.01, plot='False')"
   ]
  },
  {
   "cell_type": "code",
   "execution_count": null,
   "metadata": {
    "collapsed": true
   },
   "outputs": [],
   "source": []
  },
  {
   "cell_type": "markdown",
   "metadata": {},
   "source": [
    "### 3.3. Parameter $\\psi$"
   ]
  },
  {
   "cell_type": "code",
   "execution_count": null,
   "metadata": {},
   "outputs": [],
   "source": []
  },
  {
   "cell_type": "markdown",
   "metadata": {},
   "source": [
    "## 4. From market orders to limit orders\n",
    "\n",
    "Bellman equation with change of variable for the case of limit orders:\n",
    "\n",
    "- **Terminal condition**\n",
    "\n",
    "$$ AAA $$\n",
    "\n",
    "- **Backward induction**\n",
    "\n",
    "$$ AAA $$"
   ]
  },
  {
   "cell_type": "code",
   "execution_count": null,
   "metadata": {
    "collapsed": true
   },
   "outputs": [],
   "source": []
  }
 ],
 "metadata": {
  "kernelspec": {
   "display_name": "Python 3",
   "language": "python",
   "name": "python3"
  },
  "language_info": {
   "codemirror_mode": {
    "name": "ipython",
    "version": 3
   },
   "file_extension": ".py",
   "mimetype": "text/x-python",
   "name": "python",
   "nbconvert_exporter": "python",
   "pygments_lexer": "ipython3",
   "version": "3.6.3"
  }
 },
 "nbformat": 4,
 "nbformat_minor": 2
}
