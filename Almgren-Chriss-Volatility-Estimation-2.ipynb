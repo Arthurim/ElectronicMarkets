{
 "cells": [
  {
   "cell_type": "markdown",
   "metadata": {},
   "source": [
    "# Almgren-Chriss - Volatility estimation\n",
    "\n",
    "Suppose we have a lognormal process $X_t = \\ln S_t $ where $S_t$ is the stock price:\n",
    "\n",
    "$$ dX_t = \\mu_t dt + \\sigma_t dB_t $$.\n",
    "\n",
    "## 1. Naïve estimator\n",
    "\n",
    "It is common practice to estimate volatility through a sum of sampled squared returns:\n",
    "\n",
    "$$ [X,X]_T = \\sum_{t_i} (X_{t_{i+1}}-X_{t_i})^2 $$\n",
    "\n",
    "This estimator relies on the following approximation that the the sum of sampled squared returns converges to the continuous-time volatility:\n",
    "\n",
    "$$ \\lim_{t_i \\rightarrow \\infty} \\sum_{t_i} (X_{t_{i+1}}-X_{t_i})^2 = \\int_{0}^T \\sigma_t^2 dt $$\n",
    "\n",
    "We implement this in Python:"
   ]
  },
  {
   "cell_type": "code",
   "execution_count": 16,
   "metadata": {
    "collapsed": true
   },
   "outputs": [],
   "source": [
    "import numpy as np\n",
    "\n",
    "def volNaive(Price):\n",
    "    Returns=np.log(Price[1:]/Price[1:].shift(-1))\n",
    "    ##res=0\n",
    "    ##for i in range(1,len(Returns)):\n",
    "        ##res=res+(Returns[i]-Returns[i-1])**2\n",
    "    return np.std(Returns)"
   ]
  },
  {
   "cell_type": "markdown",
   "metadata": {},
   "source": [
    "According to Zhang, Mykland and Aït-Sahalia (2005), this approach only works for extremely high sampling frequences and is inconsistent with real-world market microstructure where return time series are sampled at multiple tick sizes. We thus need to correct for microstructure biases (not taking into account the existence of a bid-ask spread for example).\n",
    "\n",
    "## 2. ZMA estimator\n",
    "\n",
    "A common approach among researchers who wish to correct microstructure biases is to choose lower sampling frequencies. But this approach might lead to discaring large amounts of data. For Zhang, Mykland and Aït-Sahalia (2005), reducing sampling frequency is not sufficient to correct for microstructure biases, it merely increases its impact on volatility estimation.\n",
    "\n",
    "One model-free solution proposed by Zhang, Mykland and Aït-Sahalia (2005) is to consider returns as an unobservable $X_t$ latent variable and $Y_t$ our best estimation of the latent returns.\n",
    "\n",
    "$$ Y_{t_i} = X_{t_i} + \\varepsilon_{t_i} $$\n",
    "\n",
    "ZMA offer 5 possible estimators to implement:\n",
    "\n",
    "1. *Naïve estimator*\n",
    "2. *Lower frequency estimator*\n",
    "3. *Optimal lower frequency estimator*\n",
    "4. *Average of subsampled estimators*\n",
    "5. *Average of subsampled estimators + Naïve estimator*\n",
    "\n",
    "We will focus on their \"first-best approach\" (the 5th). We start by computing the naïve estimator:\n",
    "\n",
    "$$ [Y,Y]_T^{(all)} = \\sum_{i=1}^N (Y_{t_{i+1}}-Y_{t_i})^2 $$\n",
    "\n",
    "with $N$ the number of observation of our data sample over all period $T$. Since $[Y,Y]_T^{(all)}$ is prone to market microstructure biases but at the same time it is hard to find the optimal sampling frequency for the volatility estimator. One solution proposed by ZMA is to average estimators $[Y,Y]_T^{(k)}$ across $K$ grids of average size $\\bar n$, given by $[Y,Y]_T^{(avg)}$:\n",
    "\n",
    "$$ [Y,Y]_T^{(avg)} = \\frac{1}{K} \\sum_{k=1}^K [Y,Y]_T^{(k)} $$\n",
    "\n",
    "The \"first-best approach\" combines both the **naïve estimator** $[Y,Y]_T^{(all)}$ and the **average of subsampled estimators** $[Y,Y]_T^{(avg)}$, and gives an estimation of the latent $X_{t}$ process:\n",
    "\n",
    "$$ \\hat{[X,X]_T} = [Y,Y]_T^{(avg)} - \\frac{\\bar n}{n} [Y,Y]_T^{(all)} $$\n",
    "\n",
    "where $n$ is the number of observations, $\\bar n$ is the subsample size of a grid (which we get through $\\bar n = \\frac{n}{K} $) and $K = cn^{2/3}$ is the number of grids with $c = (\\frac{T}{12(E\\varepsilon^2)^2} \\int_0^T \\sigma_t^4 dt)^{-1/3}$.\n",
    "\n",
    "Finally, we compute the adjusted estimator:\n",
    "\n",
    "$$ \\hat{[X,X]_T}^{(adj)} = (1 - \\frac{\\bar n}{n})^{-1} \\hat{[X,X]_T}   $$"
   ]
  },
  {
   "cell_type": "markdown",
   "metadata": {},
   "source": [
    "We start by computing:\n",
    "\n",
    "$$ [Y,Y]_T^{(avg)} = \\frac{1}{K} \\sum_{k=1}^K [Y,Y]_T^{(k)} $$"
   ]
  },
  {
   "cell_type": "markdown",
   "metadata": {},
   "source": [
    "We compute the naïve estimator:\n",
    "\n",
    "$$ [Y,Y]_T^{(avg)} = \\frac{1}{K} \\sum_{k=1}^K [Y,Y]_T^{(k)} $$"
   ]
  },
  {
   "cell_type": "markdown",
   "metadata": {},
   "source": [
    "Thus, we get:\n",
    "\n",
    "$$ \\hat{[X,X]_T} = [Y,Y]_T^{(avg)} - \\frac{\\bar n}{n} [Y,Y]_T^{(all)} $$\n",
    "\n",
    "$$ \\hat{[X,X]_T}^{(adj)} = (1 - \\frac{\\bar n}{n})^{-1} \\hat{[X,X]_T}   $$"
   ]
  },
  {
   "cell_type": "code",
   "execution_count": 17,
   "metadata": {
    "collapsed": true
   },
   "outputs": [],
   "source": [
    "def ZMA_estimator(Price,K):\n",
    "    \"\"\"\n",
    "    Zhang, Mykland & Aït-Sahalia (adjusted) volatility estimator\n",
    "    \"\"\"\n",
    "    # Initialization\n",
    "    n = R.shape[0]\n",
    "    c = 0.25   # This needs to be changed: formula is very complex\n",
    "    ##K = c * n ** (2/3)\n",
    "    ##K = int(K)\n",
    "    n_bar = n / K\n",
    "    \n",
    "    # Partition\n",
    "    def split_seq(seq, size):\n",
    "        newseq = []\n",
    "        splitsize = 1.0/size*len(seq)\n",
    "        for i in range(size):\n",
    "                newseq.append(seq[int(round(i*splitsize)):int(round((i+1)*splitsize))])\n",
    "        return newseq\n",
    "    \n",
    "    ret_ks = split_seq(Price, K)\n",
    "    # print(K)\n",
    "    # Compute vol_k for the entire partition and vol_average\n",
    "    vol_ks = []\n",
    "    for ret_k in ret_ks:\n",
    "        vol_k = volNaive(ret_k)\n",
    "        vol_ks.append(vol_k)\n",
    "    \n",
    "    vol_average = np.mean(vol_ks)\n",
    "    \n",
    "    # Compute ZMA estimator\n",
    "    vol = vol_average - n_bar/n * volNaive(Price)\n",
    "    vol_adj = (1 - n_bar/n)**(-1) * vol\n",
    "    \n",
    "    return vol_adj"
   ]
  },
  {
   "cell_type": "markdown",
   "metadata": {},
   "source": [
    "We should test this on a rolling window basis:"
   ]
  },
  {
   "cell_type": "code",
   "execution_count": 18,
   "metadata": {},
   "outputs": [
    {
     "ename": "NameError",
     "evalue": "name 'ret' is not defined",
     "output_type": "error",
     "traceback": [
      "\u001b[1;31m---------------------------------------------------------------------------\u001b[0m",
      "\u001b[1;31mNameError\u001b[0m                                 Traceback (most recent call last)",
      "\u001b[1;32m<ipython-input-18-956fa7916a6e>\u001b[0m in \u001b[0;36m<module>\u001b[1;34m()\u001b[0m\n\u001b[0;32m      8\u001b[0m \u001b[0mresults_park\u001b[0m\u001b[1;33m=\u001b[0m\u001b[1;33m[\u001b[0m\u001b[1;33m]\u001b[0m\u001b[1;33m\u001b[0m\u001b[0m\n\u001b[0;32m      9\u001b[0m \u001b[1;33m\u001b[0m\u001b[0m\n\u001b[1;32m---> 10\u001b[1;33m \u001b[1;32mwhile\u001b[0m \u001b[1;36m10000\u001b[0m \u001b[1;33m+\u001b[0m \u001b[0mi\u001b[0m \u001b[1;33m<\u001b[0m \u001b[0mlen\u001b[0m\u001b[1;33m(\u001b[0m\u001b[0mret\u001b[0m\u001b[1;33m)\u001b[0m\u001b[1;33m:\u001b[0m\u001b[1;33m\u001b[0m\u001b[0m\n\u001b[0m\u001b[0;32m     11\u001b[0m \u001b[1;33m\u001b[0m\u001b[0m\n\u001b[0;32m     12\u001b[0m     \u001b[0mi\u001b[0m \u001b[1;33m=\u001b[0m \u001b[0mi\u001b[0m \u001b[1;33m+\u001b[0m \u001b[1;36m1\u001b[0m\u001b[1;33m\u001b[0m\u001b[0m\n",
      "\u001b[1;31mNameError\u001b[0m: name 'ret' is not defined"
     ]
    }
   ],
   "source": [
    "i = -1\n",
    "results_zma = []\n",
    "results_naive = []\n",
    "results_gk=[]\n",
    "results_yz=[]\n",
    "results_gkyz=[]\n",
    "results_rs=[]\n",
    "results_park=[]\n",
    "\n",
    "while 10000 + i < len(ret):\n",
    "    \n",
    "    i = i + 1\n",
    "    \n",
    "    # Returns\n",
    "    temp_R = ret[0+i:10000+i]\n",
    "    \n",
    "    # ZMA estimator\n",
    "    results_zma.append(ZMA_estimator(temp_R))\n",
    "    \n",
    "    # Naive estimator\n",
    "    results_naive.append(np.std(temp_R))"
   ]
  },
  {
   "cell_type": "code",
   "execution_count": 19,
   "metadata": {},
   "outputs": [
    {
     "ename": "NameError",
     "evalue": "name 'plt' is not defined",
     "output_type": "error",
     "traceback": [
      "\u001b[1;31m---------------------------------------------------------------------------\u001b[0m",
      "\u001b[1;31mNameError\u001b[0m                                 Traceback (most recent call last)",
      "\u001b[1;32m<ipython-input-19-6b57a2aa9ee8>\u001b[0m in \u001b[0;36m<module>\u001b[1;34m()\u001b[0m\n\u001b[0;32m      2\u001b[0m \u001b[0mzma\u001b[0m \u001b[1;33m=\u001b[0m \u001b[0mnp\u001b[0m\u001b[1;33m.\u001b[0m\u001b[0marray\u001b[0m\u001b[1;33m(\u001b[0m\u001b[0mresults_zma\u001b[0m\u001b[1;33m[\u001b[0m\u001b[1;36m1\u001b[0m\u001b[1;33m:\u001b[0m\u001b[1;33m]\u001b[0m\u001b[1;33m)\u001b[0m \u001b[1;33m*\u001b[0m \u001b[0mnp\u001b[0m\u001b[1;33m.\u001b[0m\u001b[0msqrt\u001b[0m\u001b[1;33m(\u001b[0m\u001b[1;36m252\u001b[0m\u001b[1;33m)\u001b[0m\u001b[1;33m\u001b[0m\u001b[0m\n\u001b[0;32m      3\u001b[0m \u001b[1;33m\u001b[0m\u001b[0m\n\u001b[1;32m----> 4\u001b[1;33m \u001b[0mplt\u001b[0m\u001b[1;33m.\u001b[0m\u001b[0mfigure\u001b[0m\u001b[1;33m(\u001b[0m\u001b[0mfigsize\u001b[0m\u001b[1;33m=\u001b[0m\u001b[1;33m(\u001b[0m\u001b[1;36m7\u001b[0m\u001b[1;33m,\u001b[0m\u001b[1;36m5\u001b[0m\u001b[1;33m)\u001b[0m\u001b[1;33m)\u001b[0m\u001b[1;33m\u001b[0m\u001b[0m\n\u001b[0m\u001b[0;32m      5\u001b[0m \u001b[0mplt\u001b[0m\u001b[1;33m.\u001b[0m\u001b[0mplot\u001b[0m\u001b[1;33m(\u001b[0m\u001b[0mnaive\u001b[0m\u001b[1;33m,\u001b[0m \u001b[0mcolor\u001b[0m\u001b[1;33m=\u001b[0m\u001b[1;34m'blue'\u001b[0m\u001b[1;33m,\u001b[0m \u001b[0mlabel\u001b[0m\u001b[1;33m=\u001b[0m\u001b[1;34m'Naive estimator'\u001b[0m\u001b[1;33m,\u001b[0m \u001b[0mlw\u001b[0m\u001b[1;33m=\u001b[0m\u001b[1;36m0.5\u001b[0m\u001b[1;33m)\u001b[0m\u001b[1;33m\u001b[0m\u001b[0m\n\u001b[0;32m      6\u001b[0m \u001b[0mplt\u001b[0m\u001b[1;33m.\u001b[0m\u001b[0mplot\u001b[0m\u001b[1;33m(\u001b[0m\u001b[0mzma\u001b[0m\u001b[1;33m,\u001b[0m \u001b[0mcolor\u001b[0m\u001b[1;33m=\u001b[0m\u001b[1;34m'red'\u001b[0m\u001b[1;33m,\u001b[0m \u001b[0mlabel\u001b[0m\u001b[1;33m=\u001b[0m\u001b[1;34m'ZMA estimator'\u001b[0m\u001b[1;33m,\u001b[0m \u001b[0mlw\u001b[0m\u001b[1;33m=\u001b[0m\u001b[1;36m0.5\u001b[0m\u001b[1;33m)\u001b[0m\u001b[1;33m\u001b[0m\u001b[0m\n",
      "\u001b[1;31mNameError\u001b[0m: name 'plt' is not defined"
     ]
    }
   ],
   "source": [
    "naive = np.array(results_naive[1:]) * np.sqrt(252)\n",
    "zma = np.array(results_zma[1:]) * np.sqrt(252)\n",
    "\n",
    "plt.figure(figsize=(7,5))\n",
    "plt.plot(naive, color='blue', label='Naive estimator', lw=0.5)\n",
    "plt.plot(zma, color='red', label='ZMA estimator', lw=0.5)\n",
    "plt.xlabel('Time $t$')\n",
    "plt.ylabel('Volatility $\\sigma_t$')\n",
    "plt.legend(loc='best')\n",
    "plt.grid(True)\n",
    "plt.show()"
   ]
  },
  {
   "cell_type": "markdown",
   "metadata": {},
   "source": [
    "## 3. Additional estimators\n",
    "\n",
    "There are different methods of calculating volatility using some or all of the open (O), high (H), low (L) and close (C). The Garman-Klass estimator is an extension of Parkinson which includes opening and closing prices (if opening prices are not available the close from the previous day can be used instead).\n",
    "\n",
    "$$ \\sigma_{GK} = \\sqrt{\\frac{F}{N}} \\sqrt{\\sum_{i=1}^{N} [ln(\\frac{h_i}{l_i})^2 - (2\\ln(2)-1) \\ln(\\frac{c_i}{o_i})^2 ]} $$"
   ]
  },
  {
   "cell_type": "code",
   "execution_count": 20,
   "metadata": {
    "collapsed": true
   },
   "outputs": [],
   "source": [
    "def garman_klass(High,Low,Open,Close):\n",
    "    \"\"\"\n",
    "    Garman-Klass volatility estimator. Requires dataframe with Open, High, Low and Close prices.\n",
    "    \"\"\"\n",
    "    log_hl = np.log(High[1:] / Low[1:])\n",
    "    log_cc = np.log(Close[1:] /Open[1:])\n",
    "    ans = 0.5*log_hl**2 - (2*np.log(2)-1) * log_cc**2\n",
    "    return np.sqrt(np.sum(ans)*1/(len(High)-1))"
   ]
  },
  {
   "cell_type": "code",
   "execution_count": 21,
   "metadata": {
    "collapsed": true
   },
   "outputs": [],
   "source": [
    "def parkinson(High,Low):\n",
    "    return np.sqrt(1/(4*np.log(2))*np.sum(np.log(High[1:]/Low[1:])**2)*1/(len(High)-1))"
   ]
  },
  {
   "cell_type": "code",
   "execution_count": 22,
   "metadata": {
    "collapsed": true
   },
   "outputs": [],
   "source": [
    "def rogers_satchell(High,Low,Open,Close):\n",
    "    val=np.log(High[1:]/Close[1:])*np.log(High[1:]/Open[1:])+np.log(Low[1:]/Close[1:])*np.log(Low[1:]/Open[1:])\n",
    "    return np.sqrt(np.sum(val)*1/len(High))"
   ]
  },
  {
   "cell_type": "code",
   "execution_count": 23,
   "metadata": {
    "collapsed": true
   },
   "outputs": [],
   "source": [
    "def garman_klass_yang_zang(High,Low,Open,Close):\n",
    "    val=np.log(Open[1:]/Close[1:].shift(-1))**2+0.5*(np.log(High[1:]/Low[1:]))**2+(2*np.log(2)-1)*(np.log(Close[1:]/Open[1:]))**2\n",
    "    return np.sqrt(np.sum(val)*1/(len(High)-1))"
   ]
  },
  {
   "cell_type": "code",
   "execution_count": 24,
   "metadata": {
    "collapsed": true
   },
   "outputs": [],
   "source": [
    "def yang_zhang(High,Low,Open,Close):\n",
    "    N=len(Open)\n",
    "    k=0.34/(1.34+(N+1)/(N-1))\n",
    "    Overnight_Vol_Mean=np.mean(np.log(Open[1:]/Close[1:].shift(-1)))\n",
    "    Open_to_Close_Vol_Mean=np.mean(np.log(Open/Close))\n",
    "    Overnight_Vol=1/(N-1)*np.sum((np.log(Open[1:]/Close[1:].shift(-1))-Overnight_Vol_Mean)**2)\n",
    "    Open_to_Close_Vol=1/(N-1)*np.sum((np.log(Open/Close)-Open_to_Close_Vol_Mean)**2)\n",
    "    return np.sqrt(N)*(Overnight_Vol+k*Open_to_Close_Vol+(1-k)*rogers_satchell(High,Low,Open,Close))"
   ]
  },
  {
   "cell_type": "markdown",
   "metadata": {},
   "source": [
    "## 4. Application"
   ]
  },
  {
   "cell_type": "code",
   "execution_count": null,
   "metadata": {
    "collapsed": true
   },
   "outputs": [],
   "source": [
    "import pandas as pd\n",
    "\n",
    "data = pd.read_excel('data.xlsx', sheet_name='1_min_IBM')\n",
    "data1 = pd.read_excel('data.xlsx', sheetname='10_min_FP', header=0, index_col=0)\n",
    "data2 = pd.read_excel('data.xlsx', sheetname='5_min_FP', header=0, index_col=0)\n",
    "data3 = pd.read_excel('data.xlsx', sheetname='1_min_FP', header=0, index_col=0)"
   ]
  },
  {
   "cell_type": "code",
   "execution_count": null,
   "metadata": {
    "collapsed": true
   },
   "outputs": [],
   "source": [
    "data3.head(5)"
   ]
  },
  {
   "cell_type": "code",
   "execution_count": null,
   "metadata": {
    "collapsed": true
   },
   "outputs": [],
   "source": [
    "High=data3[\"High\"]\n",
    "##High=np.log(High[1:]/High[1:].shift(-1))\n",
    "Low=data3[\"Low\"]\n",
    "##Low=np.log(Low[1:]/Low[1:].shift(-1))\n",
    "Open=data3[\"Open\"]\n",
    "##Open=np.log(Open[1:]/Open[1:].shift(-1))\n",
    "Close=data3[\"Close\"]\n",
    "##Close=np.log(Close[1:]/Close[1:].shift(-1))\n",
    "Mid=(High+Low)/2\n",
    "##Mid=np.log(Mid[1:]/Mid[1:].shift(-1))\n",
    "\n",
    "print(garman_klass(High,Low,Open,Close))\n",
    "print(parkinson(High,Low))\n",
    "print(rogers_satchell(High,Low,Open,Close))\n",
    "print(garman_klass_yang_zang(High,Low,Open,Close))\n",
    "##print(yang_zhang(High,Low,Open,Close))\n",
    "print(volNaive(Mid))\n",
    "print(ZMA_estimator(Mid))"
   ]
  },
  {
   "cell_type": "code",
   "execution_count": null,
   "metadata": {
    "collapsed": true
   },
   "outputs": [],
   "source": [
    "print(data3.shape[1])\n",
    "max_length=data3.shape[0]\n",
    "SubPeriod=500\n",
    "Border_up=500\n",
    "Border_down=0\n",
    "Garman_KlassS=[]\n",
    "ParkinsonS=[]\n",
    "Rogers_SatchellS=[]\n",
    "Garman_Klass_Yang_ZangS=[]\n",
    "VolNaives=[]\n",
    "ZMAs=[]\n",
    "Number_Periods=int(max_length/SubPeriod)\n",
    "Time_Period=[]\n",
    "for j in range(0,Number_Periods):\n",
    "    High=data3[\"High\"][j*100:SubPeriod+j*100]\n",
    "    ##High=np.log(High[1:]/High[1:].shift(-1))\n",
    "    Low=data3[\"Low\"][j*100:SubPeriod+j*100]\n",
    "    ##Low=np.log(Low[1:]/Low[1:].shift(-1))\n",
    "    Open=data3[\"Open\"][j*100:SubPeriod+j*100]\n",
    "    ##Open=np.log(Open[1:]/Open[1:].shift(-1))\n",
    "    Close=data3[\"Close\"][j*100:SubPeriod+j*100]\n",
    "    ##Close=np.log(Close[1:]/Close[1:].shift(-1))\n",
    "    Mid=(High+Low)/2\n",
    "    Garman_KlassS.append(garman_klass(High,Low,Open,Close))\n",
    "    ParkinsonS.append(parkinson(High,Low))\n",
    "    Rogers_SatchellS.append(rogers_satchell(High,Low,Open,Close))\n",
    "    Garman_Klass_Yang_ZangS.append(garman_klass_yang_zang(High,Low,Open,Close))\n",
    "    VolNaives.append(volNaive(Mid))\n",
    "    ZMAs.append(ZMA_estimator(Mid,10))\n",
    "    Time_Period.append(j*100+500)\n",
    "plt.plot(Time_Period,Garman_KlassS,color=\"r\",label=\"Garman Klass\")\n",
    "plt.plot(Time_Period,ParkinsonS,color=\"b\",label=\"Parkinson\")\n",
    "plt.plot(Time_Period,Rogers_SatchellS,color=\"y\",label=\"Rogers Satchell\")\n",
    "plt.plot(Time_Period,Garman_Klass_Yang_ZangS,color=\"g\",label=\"Garman Klass Yang Zang\")\n",
    "plt.plot(Time_Period,VolNaives,color=\"m\",label=\"Naive Volatility\")\n",
    "plt.plot(Time_Period,ZMAs,color=\"k\",label=\"ZMA\")\n",
    "plt.title(\"Vol estimators comparison : 1 min Data\")"
   ]
  },
  {
   "cell_type": "code",
   "execution_count": null,
   "metadata": {
    "collapsed": true
   },
   "outputs": [],
   "source": [
    "print(data2.shape[1])\n",
    "max_length=data2.shape[0]\n",
    "SubPeriod=150\n",
    "Border_up=500\n",
    "Border_down=0\n",
    "Garman_KlassS=[]\n",
    "ParkinsonS=[]\n",
    "Rogers_SatchellS=[]\n",
    "Garman_Klass_Yang_ZangS=[]\n",
    "VolNaives=[]\n",
    "ZMAs=[]\n",
    "Number_Periods=int(max_length/SubPeriod)\n",
    "Time_Period=[]\n",
    "for j in range(0,Number_Periods):\n",
    "    High=data2[\"High\"][j*100:SubPeriod+j*100]\n",
    "    ##High=np.log(High[1:]/High[1:].shift(-1))\n",
    "    Low=data2[\"Low\"][j*100:SubPeriod+j*100]\n",
    "    ##Low=np.log(Low[1:]/Low[1:].shift(-1))\n",
    "    Open=data2[\"Open\"][j*100:SubPeriod+j*100]\n",
    "    ##Open=np.log(Open[1:]/Open[1:].shift(-1))\n",
    "    Close=data2[\"Close\"][j*100:SubPeriod+j*100]\n",
    "    ##Close=np.log(Close[1:]/Close[1:].shift(-1))\n",
    "    Mid=(High+Low)/2\n",
    "    Garman_KlassS.append(garman_klass(High,Low,Open,Close))\n",
    "    ParkinsonS.append(parkinson(High,Low))\n",
    "    Rogers_SatchellS.append(rogers_satchell(High,Low,Open,Close))\n",
    "    Garman_Klass_Yang_ZangS.append(garman_klass_yang_zang(High,Low,Open,Close))\n",
    "    VolNaives.append(volNaive(Mid))\n",
    "    ZMAs.append(ZMA_estimator(Mid,15))\n",
    "    Time_Period.append(j*100+500)"
   ]
  },
  {
   "cell_type": "code",
   "execution_count": 138,
   "metadata": {},
   "outputs": [
    {
     "name": "stdout",
     "output_type": "stream",
     "text": [
      "6\n",
      "31\n"
     ]
    },
    {
     "data": {
      "text/plain": [
       "Text(0.5,1,'Vol estimators comparison : 10 min Data')"
      ]
     },
     "execution_count": 138,
     "metadata": {},
     "output_type": "execute_result"
    },
    {
     "data": {
      "image/png": "[encoded data removed]",
      "text/plain": [
       "<matplotlib.figure.Figure at 0x21eccfa8470>"
      ]
     },
     "metadata": {},
     "output_type": "display_data"
    }
   ],
   "source": [
    "max_length=data1.shape[0]\n",
    "SubPeriod=50\n",
    "Border_up=500\n",
    "Border_down=0\n",
    "Garman_KlassS=[]\n",
    "ParkinsonS=[]\n",
    "Rogers_SatchellS=[]\n",
    "Garman_Klass_Yang_ZangS=[]\n",
    "VolNaives=[]\n",
    "ZMAs=[]\n",
    "Number_Periods=int(max_length/SubPeriod)\n",
    "print(Number_Periods)\n",
    "Time_Period=[]\n",
    "for j in range(0,Number_Periods):\n",
    "    High=data1[\"High\"][j*10:SubPeriod+j*10]\n",
    "    ##High=np.log(High[1:]/High[1:].shift(-1))\n",
    "    Low=data1[\"Low\"][j*10:SubPeriod+j*10]\n",
    "    ##Low=np.log(Low[1:]/Low[1:].shift(-1))\n",
    "    Open=data1[\"Open\"][j*10:SubPeriod+j*10]\n",
    "    ##Open=np.log(Open[1:]/Open[1:].shift(-1))\n",
    "    Close=data1[\"Close\"][j*10:SubPeriod+j*10]\n",
    "    ##Close=np.log(Close[1:]/Close[1:].shift(-1))\n",
    "    Mid=(High+Low)/2\n",
    "    Garman_KlassS.append(garman_klass(High,Low,Open,Close))\n",
    "    ParkinsonS.append(parkinson(High,Low))\n",
    "    Rogers_SatchellS.append(rogers_satchell(High,Low,Open,Close))\n",
    "    Garman_Klass_Yang_ZangS.append(garman_klass_yang_zang(High,Low,Open,Close))\n",
    "    VolNaives.append(volNaive(Mid))\n",
    "    ZMAs.append(ZMA_estimator(Mid,10))\n",
    "    Time_Period.append(j*10+SubPeriod)\n",
    "plt.plot(Time_Period,Garman_KlassS,color=\"r\",label=\"Garman Klass\")\n",
    "plt.plot(Time_Period,ParkinsonS,color=\"b\",label=\"Parkinson\")\n",
    "plt.plot(Time_Period,Rogers_SatchellS,color=\"y\",label=\"Rogers Satchell\")\n",
    "plt.plot(Time_Period,Garman_Klass_Yang_ZangS,color=\"g\",label=\"Garman Klass Yang Zang\")\n",
    "plt.plot(Time_Period,VolNaives,color=\"m\",label=\"Naive Volatility\")\n",
    "plt.plot(Time_Period,ZMAs,color=\"k\",label=\"ZMA\")\n",
    "plt.title(\"Vol estimators comparison : 10 min Data\")"
   ]
  },
  {
   "cell_type": "code",
   "execution_count": null,
   "metadata": {
    "collapsed": true
   },
   "outputs": [],
   "source": []
  }
 ],
 "metadata": {
  "kernelspec": {
   "display_name": "Python 3",
   "language": "python",
   "name": "python3"
  },
  "language_info": {
   "codemirror_mode": {
    "name": "ipython",
    "version": 3
   },
   "file_extension": ".py",
   "mimetype": "text/x-python",
   "name": "python",
   "nbconvert_exporter": "python",
   "pygments_lexer": "ipython3",
   "version": "3.6.3"
  }
 },
 "nbformat": 4,
 "nbformat_minor": 2
}
