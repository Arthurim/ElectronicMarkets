{
 "cells": [
  {
   "cell_type": "markdown",
   "metadata": {},
   "source": [
    "# Almgren-Chriss Optimal Execution\n",
    "\n",
    "**Syllabus**\n",
    "1. Implementation Shortfall\n",
    "2. Volatility estimation\n",
    "\n",
    "## 1. Implementation Shortfall\n",
    "\n",
    "- **Trading trajectory**\n",
    "\n",
    "$$ x_0 = X $$\n",
    "\n",
    "$$ n_k = x_k - x_{k-1} $$\n",
    "\n",
    "$$ x_k = X - \\sum_{j=1}^k n_j = \\sum_{j=k+1}^N n_k, \\, \\, \\, \\,\\, \\, \\,\\, \\, \\,   k=0,...,N $$\n",
    "\n",
    "- **Price trajectory**\n",
    "\n",
    "$$ S_k = S_{k-1} + \\sigma \\tau^{1/2} \\zeta_k - \\tau g(\\frac{n_k}{\\tau}) $$\n",
    "\n",
    "$$ g(v) = \\gamma v $$\n",
    "\n",
    "$$ S_k = S_0 + \\sigma \\sum_{j=1}^k \\tau^{1/2} \\zeta_j - \\gamma (X - x_k) $$\n",
    "\n",
    "- **Temporary market impact**\n",
    "\n",
    "$$ h(v) = \\varepsilon sign(n_i) + \\frac{\\eta}{\\tau} n_i $$\n",
    "\n",
    "$$ \\tilde S_k = S_{k-1} - h(\\frac{n_k}{\\tau}) $$\n",
    "\n",
    "- **Implementation shortfall**\n",
    "\n",
    "$$ IS = X S_0 - \\sum_{i=1}^n n_i \\tilde S_i $$\n",
    "\n",
    "$$ \\mathbb{E}(IS) = \\sum_{i=1}^n \\tau x_i g(\\frac{n_i}{\\tau}) + \\sum_{i=1}^{n} n_i h(\\frac{n_i}{\\tau}) = \\frac{1}{2} \\gamma X^2 + \\varepsilon \\sum_{i=1}^n |n_i| + \\frac{\\eta-0.5\\gamma \\tau}{\\tau} \\sum_{i=1}^n n_i^2 $$\n",
    "\n",
    "$$ \\mathbb{V}(IS) = \\sigma^2 \\sum_{i=1}^n \\tau x_i^2 $$"
   ]
  },
  {
   "cell_type": "code",
   "execution_count": 1,
   "metadata": {},
   "outputs": [],
   "source": [
    "import numpy as np\n",
    "\n",
    "def g(x, gamma):\n",
    "    return gamma * x\n",
    "\n",
    "def h(x, tau, epsilon, eta):\n",
    "    \"\"\"\n",
    "    Returns the temporary market impact\n",
    "    \"\"\"\n",
    "    return epsilon * np.sign(x) + eta * x / tau\n",
    "\n",
    "def expectation(n, X=1000, tau=1, gamma=1, eta=1, eps=1):\n",
    "    \"\"\"\n",
    "    Returns the expected IS\n",
    "    n, array - Trading trajectory\n",
    "    X, integer - Number of shares to be liquidated\n",
    "    \"\"\"\n",
    "    res = 0.5*gamma*X**2 + eps*np.sum(np.abs(n)) + (eta - 0.5*gamma)/tau * np.sum(n**2)\n",
    "    return res\n",
    "\n",
    "def variance(n, X=1000, sigma=0.3, tau=1):\n",
    "    res = sigma**2 * np.sum((X - n)**2)\n",
    "    return res\n",
    "\n",
    "def objective(n,risk_aversion=0.5):\n",
    "    obj = expectation(n) + risk_aversion * variance(n)\n",
    "    return obj"
   ]
  },
  {
   "cell_type": "code",
   "execution_count": 2,
   "metadata": {},
   "outputs": [
    {
     "data": {
      "text/plain": [
       "672462.5"
      ]
     },
     "execution_count": 2,
     "metadata": {},
     "output_type": "execute_result"
    }
   ],
   "source": [
    "n_test = np.array([25, 25, 25, 25])\n",
    "objective(n_test)"
   ]
  },
  {
   "cell_type": "code",
   "execution_count": 43,
   "metadata": {},
   "outputs": [
    {
     "data": {
      "text/plain": [
       "     fun: 1400000.0\n",
       "     jac: array([-89., -89., -89., -89., -89., -89., -89., -89., -89., -89., -89.,\n",
       "       -89., -89., -89., -89., -89., -89., -89., -89., -89.])\n",
       " message: 'Singular matrix C in LSQ subproblem'\n",
       "    nfev: 22\n",
       "     nit: 1\n",
       "    njev: 1\n",
       "  status: 6\n",
       " success: False\n",
       "       x: array([ 0.,  0.,  0.,  0.,  0.,  0.,  0.,  0.,  0.,  0.,  0.,  0.,  0.,\n",
       "        0.,  0.,  0.,  0.,  0.,  0.,  0.])"
      ]
     },
     "execution_count": 43,
     "metadata": {},
     "output_type": "execute_result"
    }
   ],
   "source": [
    "import scipy as sp\n",
    "import scipy.optimize as sco\n",
    "\n",
    "x0 = np.zeros((20,1))\n",
    "bnds = tuple((0.0, 1000) for x in range(len(x0)))\n",
    "cons = ({'type': 'ie', 'fun': lambda x:  np.sum(x) <= 100})\n",
    "\n",
    "# AAA\n",
    "# AAA\n",
    "opt = sco.minimize(objective, x0, method='SLSQP', bounds=bnds, constraints=cons)\n",
    "opt"
   ]
  },
  {
   "cell_type": "code",
   "execution_count": 35,
   "metadata": {},
   "outputs": [
    {
     "data": {
      "text/plain": [
       "146.78742913137816"
      ]
     },
     "execution_count": 35,
     "metadata": {},
     "output_type": "execute_result"
    }
   ],
   "source": [
    "np.sum(opt.x)"
   ]
  },
  {
   "cell_type": "markdown",
   "metadata": {},
   "source": [
    "## 2. Volatility estimation"
   ]
  },
  {
   "cell_type": "code",
   "execution_count": null,
   "metadata": {
    "collapsed": true
   },
   "outputs": [],
   "source": []
  }
 ],
 "metadata": {
  "kernelspec": {
   "display_name": "Python 3",
   "language": "python",
   "name": "python3"
  },
  "language_info": {
   "codemirror_mode": {
    "name": "ipython",
    "version": 3
   },
   "file_extension": ".py",
   "mimetype": "text/x-python",
   "name": "python",
   "nbconvert_exporter": "python",
   "pygments_lexer": "ipython3",
   "version": "3.6.4"
  }
 },
 "nbformat": 4,
 "nbformat_minor": 2
}
