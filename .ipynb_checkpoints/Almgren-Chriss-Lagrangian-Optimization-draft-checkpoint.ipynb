{
 "cells": [
  {
   "cell_type": "markdown",
   "metadata": {},
   "source": [
    "# Almgren-Chriss Optimal Execution\n",
    "\n",
    "**Syllabus**\n",
    "1. Implementation Shortfall\n",
    "2. Volatility estimation\n",
    "\n",
    "## 1. Implementation Shortfall\n",
    "\n",
    "- **Trading trajectory**\n",
    "\n",
    "$$ x_0 = X $$\n",
    "\n",
    "$$ n_k = x_k - x_{k-1} $$\n",
    "\n",
    "$$ x_k = X - \\sum_{j=1}^k n_j = \\sum_{j=k+1}^N n_k, \\, \\, \\, \\,\\, \\, \\,\\, \\, \\,   k=0,...,N $$\n",
    "\n",
    "- **Price trajectory**\n",
    "\n",
    "$$ S_k = S_{k-1} + \\sigma \\tau^{1/2} \\zeta_k - \\tau g(\\frac{n_k}{\\tau}) $$\n",
    "\n",
    "$$ g(v) = \\gamma v $$\n",
    "\n",
    "$$ S_k = S_0 + \\sigma \\sum_{j=1}^k \\tau^{1/2} \\zeta_j - \\gamma (X - x_k) $$\n",
    "\n",
    "- **Temporary market impact**\n",
    "\n",
    "$$ h(v) = \\varepsilon sign(n_i) + \\frac{\\eta}{\\tau} n_i $$\n",
    "\n",
    "$$ \\tilde S_k = S_{k-1} - h(\\frac{n_k}{\\tau}) $$\n",
    "\n",
    "- **Implementation shortfall**\n",
    "\n",
    "$$ IS = X S_0 - \\sum_{i=1}^n n_i \\tilde S_i $$\n",
    "\n",
    "$$ \\mathbb{E}(IS) = \\sum_{i=1}^n \\tau x_i g(\\frac{n_i}{\\tau}) + \\sum_{i=1}^{n} n_i h(\\frac{n_i}{\\tau}) = \\frac{1}{2} \\gamma X^2 + \\varepsilon \\sum_{i=1}^n |n_i| + \\frac{\\eta-0.5\\gamma \\tau}{\\tau} \\sum_{i=1}^n n_i^2 $$\n",
    "\n",
    "$$ \\mathbb{V}(IS) = \\sigma^2 \\sum_{i=1}^n \\tau x_i^2 $$\n",
    "\n",
    "- **VWAP**\n",
    "$$VWAP = \\frac{\\sum_{i=1}^n S_i Q_i}{\\sum_{i=1}^n  Q_i}$$\n",
    "- **TWAP**"
   ]
  },
  {
   "cell_type": "code",
   "execution_count": 1,
   "metadata": {},
   "outputs": [],
   "source": [
    "import numpy as np\n",
    "\n",
    "def g(x, gamma):\n",
    "    return gamma * x\n",
    "\n",
    "def h(x, tau, epsilon, eta):\n",
    "    \"\"\"\n",
    "    Returns the temporary market impact\n",
    "    \"\"\"\n",
    "    return epsilon * np.sign(x) + eta * x / tau\n",
    "\n",
    "def expectation(n, X=1000, tau=1, gamma=1, eta=1, eps=1):\n",
    "    \"\"\"\n",
    "    Returns the expected IS\n",
    "    n, array - Trading trajectory\n",
    "    X, integer - Number of shares to be liquidated\n",
    "    \"\"\"\n",
    "    res = 0.5*gamma*X**2 + eps*np.sum(np.abs(n)) + (eta - 0.5*gamma)/tau * np.sum(n**2)\n",
    "    return res\n",
    "\n",
    "def variance(n, X=1000, sigma=0.3, tau=1):\n",
    "    res = sigma**2 * np.sum((X - n)**2)\n",
    "    return res\n",
    "\n",
    "def objective(n,risk_aversion=0.5):\n",
    "    obj = expectation(n) + risk_aversion * variance(n)\n",
    "    return obj\n",
    "\n",
    "def IS(X,S):\n",
    "    \"\"\"\n",
    "    Returns the Implementation Shortfall benchmark\n",
    "    \"\"\"\n",
    "    return X*S[0]\n",
    "\n",
    "def twap(S):\n",
    "    \"\"\"\n",
    "    Returns the TWAP benchmark\n",
    "    \"\"\"\n",
    "    for i in range(len(S)):\n",
    "        s+=S[i]\n",
    "    return s/len(S)\n",
    "    \n",
    "def vwap(X,S):\n",
    "    \"\"\"\n",
    "    Returns the VWAP benchmark\n",
    "    \"\"\"\n",
    "    s = 0\n",
    "    v = 0\n",
    "    for i in range(len(S)):\n",
    "        v += n[i]\n",
    "        s+= n[i] * S[i]\n",
    "    return s/v\n",
    "\n",
    "def marketimpact(S,X,benchmark):\n",
    "    \"\"\"\n",
    "    Returns the Market Imapct from a benchmark\n",
    "    \"\"\"\n",
    "    s = 0\n",
    "    for t in range(len(S)):\n",
    "        s+=S[t]\n",
    "    s/=len(S)\n",
    "    if benchmark.upper() is \"IS\":\n",
    "        return IS(X,S) - s\n",
    "    elif benchmark.upper() is \"TWAP\":\n",
    "        return twap(X,S) - s\n",
    "    elif benchmark.upper() is \"VWAP\":\n",
    "        return vwap(X,S) - s\n",
    "    else:\n",
    "        raise ValueErrore(\"Unknown benchmark. Possible benchmarks are: 'IS', 'TWAP', or 'VWAP'.\")"
   ]
  },
  {
   "cell_type": "code",
   "execution_count": 2,
   "metadata": {},
   "outputs": [
    {
     "data": {
      "text/plain": [
       "672462.5"
      ]
     },
     "execution_count": 2,
     "metadata": {},
     "output_type": "execute_result"
    }
   ],
   "source": [
    "n_test = np.array([25, 25, 25, 25])\n",
    "objective(n_test)"
   ]
  },
  {
   "cell_type": "code",
   "execution_count": 3,
   "metadata": {},
   "outputs": [
    {
     "ename": "ValueError",
     "evalue": "Unknown constraint type 'ie'.",
     "output_type": "error",
     "traceback": [
      "\u001b[1;31m---------------------------------------------------------------------------\u001b[0m",
      "\u001b[1;31mValueError\u001b[0m                                Traceback (most recent call last)",
      "\u001b[1;32m<ipython-input-3-783bdd5e1234>\u001b[0m in \u001b[0;36m<module>\u001b[1;34m()\u001b[0m\n\u001b[0;32m      8\u001b[0m     \u001b[1;31m# AAA\u001b[0m\u001b[1;33m\u001b[0m\u001b[1;33m\u001b[0m\u001b[0m\n\u001b[0;32m      9\u001b[0m     \u001b[1;31m# AAA\u001b[0m\u001b[1;33m\u001b[0m\u001b[1;33m\u001b[0m\u001b[0m\n\u001b[1;32m---> 10\u001b[1;33m \u001b[0mopt\u001b[0m \u001b[1;33m=\u001b[0m \u001b[0msco\u001b[0m\u001b[1;33m.\u001b[0m\u001b[0mminimize\u001b[0m\u001b[1;33m(\u001b[0m\u001b[0mobjective\u001b[0m\u001b[1;33m,\u001b[0m \u001b[0mx0\u001b[0m\u001b[1;33m,\u001b[0m \u001b[0mmethod\u001b[0m\u001b[1;33m=\u001b[0m\u001b[1;34m'SLSQP'\u001b[0m\u001b[1;33m,\u001b[0m \u001b[0mbounds\u001b[0m\u001b[1;33m=\u001b[0m\u001b[0mbnds\u001b[0m\u001b[1;33m,\u001b[0m \u001b[0mconstraints\u001b[0m\u001b[1;33m=\u001b[0m\u001b[0mcons\u001b[0m\u001b[1;33m)\u001b[0m\u001b[1;33m\u001b[0m\u001b[0m\n\u001b[0m\u001b[0;32m     11\u001b[0m \u001b[0mopt\u001b[0m\u001b[1;33m\u001b[0m\u001b[0m\n",
      "\u001b[1;32m~\\Anaconda3\\lib\\site-packages\\scipy\\optimize\\_minimize.py\u001b[0m in \u001b[0;36mminimize\u001b[1;34m(fun, x0, args, method, jac, hess, hessp, bounds, constraints, tol, callback, options)\u001b[0m\n\u001b[0;32m    493\u001b[0m     \u001b[1;32melif\u001b[0m \u001b[0mmeth\u001b[0m \u001b[1;33m==\u001b[0m \u001b[1;34m'slsqp'\u001b[0m\u001b[1;33m:\u001b[0m\u001b[1;33m\u001b[0m\u001b[0m\n\u001b[0;32m    494\u001b[0m         return _minimize_slsqp(fun, x0, args, jac, bounds,\n\u001b[1;32m--> 495\u001b[1;33m                                constraints, callback=callback, **options)\n\u001b[0m\u001b[0;32m    496\u001b[0m     \u001b[1;32melif\u001b[0m \u001b[0mmeth\u001b[0m \u001b[1;33m==\u001b[0m \u001b[1;34m'dogleg'\u001b[0m\u001b[1;33m:\u001b[0m\u001b[1;33m\u001b[0m\u001b[0m\n\u001b[0;32m    497\u001b[0m         return _minimize_dogleg(fun, x0, args, jac, hess,\n",
      "\u001b[1;32m~\\Anaconda3\\lib\\site-packages\\scipy\\optimize\\slsqp.py\u001b[0m in \u001b[0;36m_minimize_slsqp\u001b[1;34m(func, x0, args, jac, bounds, constraints, maxiter, ftol, iprint, disp, eps, callback, **unknown_options)\u001b[0m\n\u001b[0;32m    261\u001b[0m         \u001b[1;32melse\u001b[0m\u001b[1;33m:\u001b[0m\u001b[1;33m\u001b[0m\u001b[0m\n\u001b[0;32m    262\u001b[0m             \u001b[1;32mif\u001b[0m \u001b[0mctype\u001b[0m \u001b[1;32mnot\u001b[0m \u001b[1;32min\u001b[0m \u001b[1;33m[\u001b[0m\u001b[1;34m'eq'\u001b[0m\u001b[1;33m,\u001b[0m \u001b[1;34m'ineq'\u001b[0m\u001b[1;33m]\u001b[0m\u001b[1;33m:\u001b[0m\u001b[1;33m\u001b[0m\u001b[0m\n\u001b[1;32m--> 263\u001b[1;33m                 \u001b[1;32mraise\u001b[0m \u001b[0mValueError\u001b[0m\u001b[1;33m(\u001b[0m\u001b[1;34m\"Unknown constraint type '%s'.\"\u001b[0m \u001b[1;33m%\u001b[0m \u001b[0mcon\u001b[0m\u001b[1;33m[\u001b[0m\u001b[1;34m'type'\u001b[0m\u001b[1;33m]\u001b[0m\u001b[1;33m)\u001b[0m\u001b[1;33m\u001b[0m\u001b[0m\n\u001b[0m\u001b[0;32m    264\u001b[0m \u001b[1;33m\u001b[0m\u001b[0m\n\u001b[0;32m    265\u001b[0m         \u001b[1;31m# check function\u001b[0m\u001b[1;33m\u001b[0m\u001b[1;33m\u001b[0m\u001b[0m\n",
      "\u001b[1;31mValueError\u001b[0m: Unknown constraint type 'ie'."
     ]
    }
   ],
   "source": [
    "import scipy as sp\n",
    "import scipy.optimize as sco\n",
    "\n",
    "x0 = np.zeros((20,1))\n",
    "bnds = tuple((0.0, 1000) for x in range(len(x0)))\n",
    "cons = ({'type': 'ie', 'fun': lambda x:  np.sum(x) <= 100})\n",
    "\n",
    "    # AAA\n",
    "    # AAA\n",
    "opt = sco.minimize(objective, x0, method='SLSQP', bounds=bnds, constraints=cons)\n",
    "opt"
   ]
  },
  {
   "cell_type": "code",
   "execution_count": null,
   "metadata": {},
   "outputs": [],
   "source": [
    "np.sum(opt.x)"
   ]
  },
  {
   "cell_type": "markdown",
   "metadata": {},
   "source": [
    "## 2. Volatility estimation"
   ]
  },
  {
   "cell_type": "code",
   "execution_count": null,
   "metadata": {
    "collapsed": true
   },
   "outputs": [],
   "source": []
  }
 ],
 "metadata": {
  "kernelspec": {
   "display_name": "Python 3",
   "language": "python",
   "name": "python3"
  }
 },
 "nbformat": 4,
 "nbformat_minor": 2
}
