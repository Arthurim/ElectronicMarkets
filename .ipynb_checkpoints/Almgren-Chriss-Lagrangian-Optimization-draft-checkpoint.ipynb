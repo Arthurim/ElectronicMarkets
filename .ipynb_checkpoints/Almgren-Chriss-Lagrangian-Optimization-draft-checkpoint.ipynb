{
 "cells": [
  {
   "cell_type": "markdown",
   "metadata": {},
   "source": [
    "# Almgren-Chriss Optimal Execution - Convex Optimization\n",
    "\n",
    "## Assumptions\n",
    "\n",
    "- **Trading trajectory**\n",
    "\n",
    "$$ x_0 = X $$\n",
    "\n",
    "$$ n_k = x_k - x_{k-1} $$\n",
    "\n",
    "$$ x_k = X - \\sum_{j=1}^k n_j = \\sum_{j=k+1}^N n_k, \\, \\, \\, \\,\\, \\, \\,\\, \\, \\,   k=0,...,N $$\n",
    "\n",
    "- **Price trajectory**\n",
    "\n",
    "$$ S_k = S_{k-1} + \\sigma \\tau^{1/2} \\zeta_k - \\tau g(\\frac{n_k}{\\tau}) $$\n",
    "\n",
    "$$ g(v) = \\gamma v $$\n",
    "\n",
    "$$ S_k = S_0 + \\sigma \\sum_{j=1}^k \\tau^{1/2} \\zeta_j - \\gamma (X - x_k) $$\n",
    "\n",
    "- **Temporary market impact**\n",
    "\n",
    "$$ h(v) = \\varepsilon sign(n_i) + \\frac{\\eta}{\\tau} n_i $$\n",
    "\n",
    "$$ \\tilde S_k = S_{k-1} - h(\\frac{n_k}{\\tau}) $$\n",
    "\n",
    "\n",
    "**Algorithms**\n",
    "1. Implementation Shortfall\n",
    "2. VWAP\n",
    "3. TWAP\n",
    "\n",
    "## 1. Implementation Shortfall\n",
    "\n",
    "- **Implementation shortfall**\n",
    "\n",
    "$$ IS = X S_0 - \\sum_{i=1}^n n_i \\tilde S_i $$\n",
    "\n",
    "$$ \\mathbb{E}(IS) = \\sum_{i=1}^n \\tau x_i g(\\frac{n_i}{\\tau}) + \\sum_{i=1}^{n} n_i h(\\frac{n_i}{\\tau}) = \\frac{1}{2} \\gamma X^2 + \\varepsilon \\sum_{i=1}^n |n_i| + \\frac{\\eta-0.5\\gamma \\tau}{\\tau} \\sum_{i=1}^n n_i^2 $$\n",
    "\n",
    "$$ \\mathbb{V}(IS) = \\sigma^2 \\sum_{i=1}^n \\tau x_i^2 $$\n",
    "\n",
    "Pour calculer tous les benchmarks, il faudrait calculer les expressions suivantes:\n",
    "\n",
    "$$\\mathbb{E}\\Big[\\sum_{i=1}^n n_i \\tilde S_i \\Big] $$\n",
    "$$\\mathbb{V}\\Big[\\sum_{i=1}^n n_i \\tilde S_i \\Big] $$"
   ]
  },
  {
   "cell_type": "code",
   "execution_count": 153,
   "metadata": {},
   "outputs": [],
   "source": [
    "import numpy as np\n",
    "\n",
    "def g(x, gamma=1.0):\n",
    "    return gamma * x\n",
    "\n",
    "def h(x, tau, epsilon, eta):\n",
    "    \"\"\"\n",
    "    Returns the temporary market impact\n",
    "    \"\"\"\n",
    "    return epsilon * np.sign(x) + eta * x / tau\n",
    "\n",
    "#############################################################\n",
    "\n",
    "def expectation_IS(n, X=40000.0, tau=1, gamma=1, eta=1, eps=1):\n",
    "    \"\"\"\n",
    "    Returns the expected IS\n",
    "    n, array - Trading trajectory\n",
    "    X, integer - Number of shares to be liquidated\n",
    "    \"\"\"\n",
    "    res = 0.5*gamma*X**2 + eps*np.sum(n) + (eta - 0.5*gamma)/tau * np.sum(n**2)\n",
    "    return res\n",
    "\n",
    "def variance_IS(n, X=1000, sigma=0.3, tau=1.0):\n",
    "    \n",
    "    res = 0\n",
    "    t = - 1\n",
    "    while t < len(n) - 1:\n",
    "        t = t + 1\n",
    "        temp = (X - np.sum(N_bar[0:t])) ** 2\n",
    "        res = res + temp\n",
    "    \n",
    "    res = tau * (sigma**2) * res\n",
    "    return res\n",
    "\n",
    "def objective_IS(N):\n",
    "    risk_aversion = 0.5\n",
    "    obj = expectation_IS(N) + risk_aversion * variance_IS(N)\n",
    "    return obj\n",
    "\n",
    "#############################################################\n",
    "\n",
    "def IS(X,S):\n",
    "    \"\"\"\n",
    "    Returns the Implementation Shortfall benchmark\n",
    "    \"\"\"\n",
    "    return X*S[0]\n",
    "\n",
    "def twap(S):\n",
    "    \"\"\"\n",
    "    Returns the TWAP benchmark\n",
    "    \"\"\"\n",
    "    for i in range(len(S)):\n",
    "        s+=S[i]\n",
    "    return s/len(S)\n",
    "    \n",
    "def vwap(X,S):\n",
    "    \"\"\"\n",
    "    Returns the VWAP benchmark\n",
    "    \"\"\"\n",
    "    s = 0\n",
    "    v = 0\n",
    "    for i in range(len(S)):\n",
    "        v += n[i]\n",
    "        s+= n[i] * S[i]\n",
    "    return s/v\n",
    "\n",
    "def marketimpact(S,X,benchmark):\n",
    "    \"\"\"\n",
    "    Returns the Market Imapct from a benchmark\n",
    "    \"\"\"\n",
    "    s = 0\n",
    "    for t in range(len(S)):\n",
    "        s+=S[t]\n",
    "    s/=len(S)\n",
    "    if benchmark.upper() is \"IS\":\n",
    "        return IS(X,S) - s\n",
    "    elif benchmark.upper() is \"TWAP\":\n",
    "        return twap(X,S) - s\n",
    "    elif benchmark.upper() is \"VWAP\":\n",
    "        return vwap(X,S) - s\n",
    "    else:\n",
    "        raise ValueErrore(\"Unknown benchmark. Possible benchmarks are: 'IS', 'TWAP', or 'VWAP'.\")"
   ]
  },
  {
   "cell_type": "code",
   "execution_count": 154,
   "metadata": {},
   "outputs": [
    {
     "data": {
      "text/plain": [
       "800099450.0"
      ]
     },
     "execution_count": 154,
     "metadata": {},
     "output_type": "execute_result"
    }
   ],
   "source": [
    "n_test = np.array([25, 25, 25, 25])\n",
    "objective(n_test)"
   ]
  },
  {
   "cell_type": "code",
   "execution_count": 155,
   "metadata": {},
   "outputs": [
    {
     "data": {
      "text/plain": [
       "     fun: 880162007.375\n",
       "     jac: array([ 4000.,  4000.,  4000.,  4000.,  4000.,  4000.,  4000.,  4000.,\n",
       "        4000.,  4000.])\n",
       " message: 'Optimization terminated successfully.'\n",
       "    nfev: 24\n",
       "     nit: 2\n",
       "    njev: 2\n",
       "  status: 0\n",
       " success: True\n",
       "       x: array([ 4000.,  4000.,  4000.,  4000.,  4000.,  4000.,  4000.,  4000.,\n",
       "        4000.,  4000.])"
      ]
     },
     "execution_count": 155,
     "metadata": {},
     "output_type": "execute_result"
    }
   ],
   "source": [
    "import scipy as sp\n",
    "import scipy.optimize as sco\n",
    "\n",
    "nb_T = 10\n",
    "X = 40000.0\n",
    "\n",
    "x0 = np.zeros((nb_T, 1))\n",
    "bnds = tuple((0.0, X) for x in range(len(x0)))\n",
    "cons = ({'type': 'eq', 'fun': lambda x:  np.sum(x) - X})\n",
    "\n",
    "opt = sco.minimize(objective_IS, x0, method='SLSQP', bounds=bnds, constraints=cons)\n",
    "opt"
   ]
  },
  {
   "cell_type": "code",
   "execution_count": 93,
   "metadata": {},
   "outputs": [
    {
     "data": {
      "text/plain": [
       "39999.999999999993"
      ]
     },
     "execution_count": 93,
     "metadata": {},
     "output_type": "execute_result"
    }
   ],
   "source": [
    "np.sum(opt.x)"
   ]
  },
  {
   "cell_type": "markdown",
   "metadata": {
    "collapsed": true
   },
   "source": [
    "## 2. VWAP\n",
    "\n",
    "We adapt the Almgren-Chriss framework to the VWAP and TWAP algorithms with the help of O. Guéant's *The Financial Mathematics of Market Liquidity* (2016). VWAP (and TWAP) are popular algorithms among market making participants to follow closely the average price movements. The VWAP in particular is useful as a benchmark for both ensuring that the agent's liquidation decisions are in line with his strategy and low transaction costs.\n",
    "\n",
    "**Benchmark market price**\n",
    "\n",
    "$$ VWAP_{market} = \\frac{\\sum_{i=1}^n S_i V_i}{\\sum_{i=1}^n  V_i} $$\n",
    "\n",
    "**Cumulated market volume**\n",
    "\n",
    "$$ V = \\sum_{i=1}^{n} V_i $$\n",
    "\n",
    "**Portfolio liquidation trajectory**\n",
    "\n",
    "$$ X = \\sum_{i=1}^{n} n_i $$\n",
    "\n",
    "With implementation shortfall algorithm, we had the following algorithm:\n",
    "\n",
    "$$ IS = X S_0 - \\sum_{i=1}^n n_i \\tilde S_i $$\n",
    "\n",
    "For the VWAP algorithm, we have:\n",
    "\n",
    "$$ VWAP = X * S_{VWAP} - \\sum_{i=1}^n n_i \\tilde S_i $$\n",
    "\n",
    "We solve the same convex optimization problem as before. We start by defining the **expectation**:\n",
    "\n",
    "$$ \\mathbb{E}(VWAP) = \\sum_{i=1}^n [(\\frac{X}{V} V_i - n_i) (S_0 - \\sum_{j=1}^{i-1} \\tau g(\\frac{n_j}{\\tau})) - \\frac{X}{V} V_i \\tau g(\\frac{n_i}{\\tau}) - n_i h(\\frac{n_i}{\\tau})]$$"
   ]
  },
  {
   "cell_type": "code",
   "execution_count": 114,
   "metadata": {},
   "outputs": [
    {
     "data": {
      "text/plain": [
       "-428575.0"
      ]
     },
     "execution_count": 114,
     "metadata": {},
     "output_type": "execute_result"
    }
   ],
   "source": [
    "def expectation_VWAP(N_bar, V_bar, X, S0=100, tau=1.0, gamma=1.0):\n",
    "    \n",
    "    V = np.sum(V_bar)\n",
    "    \n",
    "    res = 0\n",
    "    t = -1\n",
    "    while t < len(N_bar) - 1:\n",
    "        t = t + 1\n",
    "        temp = ( (X/V * V_bar[t] - N_bar[t])*(S0 - tau * np.sum(g(N_bar[0:t-1], gamma))) -\n",
    "                X/V * V_bar[t] * tau * g(N_bar[t], gamma) + N_bar[t] * h(N_bar[t], tau=1.0, epsilon=1.0, eta=1.0) )\n",
    "        res = res + temp\n",
    "    \n",
    "    return res\n",
    "\n",
    "# Testing\n",
    "V_bar = np.array([10, 10, 10, 10, 10, 10, 10, 10, 10, 10])\n",
    "N_bar = np.array([100, 300, 500, 200, 100, 40, 55, 100, 30, 50])\n",
    "V = np.sum(V_bar)\n",
    "X = np.sum(N_bar)\n",
    "expectation_VWAP(N_bar, V_bar, X)"
   ]
  },
  {
   "cell_type": "markdown",
   "metadata": {},
   "source": [
    "Next the **variance**:\n",
    "\n",
    "$$ \\mathbb{V}(VWAP) = \\tau \\sigma^2 \\sum_{i=1}^n (\\frac{X}{V} \\sum_{j=1}^n V_j - x_i)^2 $$\n",
    "\n",
    "Refresher:\n",
    "\n",
    "$$ x_t = X - \\sum_{j=1}^t n_j = \\sum_{j=t+1}^N n_j $$"
   ]
  },
  {
   "cell_type": "code",
   "execution_count": 117,
   "metadata": {},
   "outputs": [
    {
     "data": {
      "text/plain": [
       "973914.75"
      ]
     },
     "execution_count": 117,
     "metadata": {},
     "output_type": "execute_result"
    }
   ],
   "source": [
    "def variance_VWAP(N_bar, V_bar, X, S0=100, tau=1.0, sigma=0.3):\n",
    "    \n",
    "    V = np.sum(V_bar)\n",
    "    \n",
    "    res = 0\n",
    "    t = -1\n",
    "    while t < len(N_bar) - 1:\n",
    "        t = t + 1\n",
    "        x_i = X - np.sum(N_bar[0:t])\n",
    "        temp = ( X/V * np.sum(V_bar) - x_i) ** 2\n",
    "        res = res + temp\n",
    "    \n",
    "    res = tau * (sigma**2) * res\n",
    "    \n",
    "    return res\n",
    "\n",
    "# Testing\n",
    "V_bar = np.array([10, 10, 10, 10, 10, 10, 10, 10, 10, 10])\n",
    "N_bar = np.array([100, 300, 500, 200, 100, 40, 55, 100, 30, 50])\n",
    "V = np.sum(V_bar)\n",
    "X = np.sum(N_bar)\n",
    "variance_VWAP(N_bar, V_bar, X)"
   ]
  },
  {
   "cell_type": "markdown",
   "metadata": {},
   "source": [
    "**Optimization**:\n",
    "\n",
    "$$ \\min_{0<n_i<X} \\mathbb{E}(VWAP) + \\lambda * \\mathbb{V}(VWAP) $$"
   ]
  },
  {
   "cell_type": "code",
   "execution_count": 146,
   "metadata": {},
   "outputs": [],
   "source": [
    "def objective_VWAP(N):\n",
    "    lambda_risk = 5 * 10 ** (-7)\n",
    "    X = 40000.0\n",
    "    V_bar_const = np.array([1000, 1000, 1000, 1000, 1000, 1000, 1000, 1000, 1000, 1000])\n",
    "    obj = expectation_VWAP(N, V_bar_const, X) + lambda_risk * variance_VWAP(N, V_bar_const, X)\n",
    "    return obj"
   ]
  },
  {
   "cell_type": "code",
   "execution_count": 147,
   "metadata": {},
   "outputs": [
    {
     "data": {
      "text/plain": [
       "-37142899.513042621"
      ]
     },
     "execution_count": 147,
     "metadata": {},
     "output_type": "execute_result"
    }
   ],
   "source": [
    "objective_VWAP(N_bar)"
   ]
  },
  {
   "cell_type": "code",
   "execution_count": 148,
   "metadata": {},
   "outputs": [
    {
     "data": {
      "text/plain": [
       "     fun: -610245165.9492023\n",
       "     jac: array([ 24480.,   2184.,   2192.,   2200.,   8464.,  19904.,  23904.,\n",
       "        27904.,  31904.,  35904.])\n",
       " message: 'Positive directional derivative for linesearch'\n",
       "    nfev: 108\n",
       "     nit: 13\n",
       "    njev: 9\n",
       "  status: 8\n",
       " success: False\n",
       "       x: array([  0.00000000e+00,   1.54223487e+04,   1.71416225e+04,\n",
       "         7.43603099e+03,   4.35252505e-04,   0.00000000e+00,\n",
       "         0.00000000e+00,   0.00000000e+00,   0.00000000e+00,\n",
       "         0.00000000e+00])"
      ]
     },
     "execution_count": 148,
     "metadata": {},
     "output_type": "execute_result"
    }
   ],
   "source": [
    "nb_T = 10\n",
    "X = 40000.0\n",
    "\n",
    "n0 = np.zeros((nb_T, 1))  # Dimensionality of the problem\n",
    "bnds = tuple((0.0, X) for x in range(len(n0)))\n",
    "cons = ({'type': 'eq', 'fun': lambda x:  np.sum(x) - X})\n",
    "\n",
    "opt = sco.minimize(objective_VWAP, n0, method='SLSQP', bounds=bnds, constraints=cons)\n",
    "opt"
   ]
  },
  {
   "cell_type": "code",
   "execution_count": 149,
   "metadata": {},
   "outputs": [
    {
     "name": "stdout",
     "output_type": "stream",
     "text": [
      "40000.0026108\n"
     ]
    }
   ],
   "source": [
    "print(np.sum(opt.x))\n",
    "N = opt.x"
   ]
  },
  {
   "cell_type": "code",
   "execution_count": 150,
   "metadata": {},
   "outputs": [
    {
     "data": {
      "text/plain": [
       "array([     0.  ,  15422.35,  17141.62,   7436.03,      0.  ,      0.  ,\n",
       "            0.  ,      0.  ,      0.  ,      0.  ])"
      ]
     },
     "execution_count": 150,
     "metadata": {},
     "output_type": "execute_result"
    }
   ],
   "source": [
    "N.round(2)"
   ]
  },
  {
   "cell_type": "markdown",
   "metadata": {},
   "source": [
    "## 3. TWAP\n",
    "\n",
    "According to O. Guéant, the TWAP and VWAP implementations are identical if the market volume is constant. Thus:\n",
    "\n",
    "**TWAP**\n",
    "\n",
    "$$ TWAP_{market} = \\frac{\\sum_{i=1}^n \\tau S_i}{\\sum_{i=1}^n \\tau} $$\n",
    "\n",
    "**Benchmark**\n",
    "\n",
    "$$ TWAP = X * TWAP_{market} - \\sum_{i=1}^n n_i \\tilde S_i $$\n",
    "\n",
    "**Cumulated market volume**\n",
    "\n",
    "$$ V = \\sum_{i=1}^{n} V_i $$"
   ]
  },
  {
   "cell_type": "code",
   "execution_count": null,
   "metadata": {
    "collapsed": true
   },
   "outputs": [],
   "source": []
  }
 ],
 "metadata": {
  "kernelspec": {
   "display_name": "Python 3",
   "language": "python",
   "name": "python3"
  },
  "language_info": {
   "codemirror_mode": {
    "name": "ipython",
    "version": 3
   },
   "file_extension": ".py",
   "mimetype": "text/x-python",
   "name": "python",
   "nbconvert_exporter": "python",
   "pygments_lexer": "ipython3",
   "version": "3.6.3"
  }
 },
 "nbformat": 4,
 "nbformat_minor": 2
}
