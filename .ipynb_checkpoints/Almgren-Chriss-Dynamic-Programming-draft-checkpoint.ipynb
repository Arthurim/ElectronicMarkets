{
 "cells": [
  {
   "cell_type": "markdown",
   "metadata": {},
   "source": [
    "# Electronic Markets - Optimal execution with the Almgren-Chriss model\n",
    "\n",
    "## 1. Model\n",
    "\n",
    "The **Almgren-Chriss framework** (1999) is a mathematical model that looks to estimate the optimal pace to build/unwind a trading position, issues often faced by brokers and traders but has not seen as much interest from statisticians, economists and econophysicists in the past decades. Compared to Bertsimas-Lo (1998), Almgren-Chriss established the existence of a trade-off between fast execution (limited liquidity, high market impact, high transaction costs) and slow execution (exposure to price fluctuations). Other interesting facets of the Almgren-Chriss framework include:\n",
    "\n",
    "- Allows one to graphically represent the trade-off between slow/fast execution;\n",
    "- Ease to choose one's own prefered approach to model market impact costs;\n",
    "- Avoids the temptation of modelling the market as a physical system fully enclosed in its own data (*physics envy*);\n",
    "- Designed from a bottom-top approach: the modelling is based on the execution process itself;\n",
    "- Provides a multitude of modelling approaches to compute the slow/fast execution trade-off (e.g. dynamic programming, stochastic control, reinforcement learning, etc.).\n",
    "\n",
    "We will present 4 approaches to solve the Almgren-Chriss mode:\n",
    "\n",
    "1. Dynamic programming\n",
    "2. Closed-form solution (original method)\n",
    "3. Stochastic control\n",
    "4. Reinforcement learning (ex. Q-Learning)\n",
    "\n",
    "\n",
    "## 2. Dynamic programming\n",
    "\n",
    "### 2.1. Market impact functions"
   ]
  },
  {
   "cell_type": "code",
   "execution_count": 1,
   "metadata": {},
   "outputs": [],
   "source": [
    "import numpy as np\n",
    "import pandas as pd\n",
    "import math"
   ]
  },
  {
   "cell_type": "markdown",
   "metadata": {},
   "source": [
    "Utilities for the implementation of Almgren-Chriss:\n",
    "\n",
    "- **Temporary market impact function**\n",
    "\n",
    "$$ h(\\frac{n_k}{\\tau}) = \\epsilon \\, sign(n_k) + \\eta \\frac{n_k}{\\tau} $$\n",
    "\n",
    "- **Permanent market impact function**\n",
    "\n",
    "$$ g(v) = \\gamma v $$\n",
    "\n",
    "- **Hamiltonian equation**\n",
    "\n",
    "$$ H(x,n) = ng(\\frac{n}{\\tau}) + \\gamma (x-n) \\tau h(\\frac{n}{\\tau}) - \\frac{1}{2} \\gamma^2 (x-n)^2 \\sigma^2 \\tau $$"
   ]
  },
  {
   "cell_type": "code",
   "execution_count": 2,
   "metadata": {},
   "outputs": [],
   "source": [
    "# Utilities\n",
    "def h(u):\n",
    "    \"\"\"\n",
    "    Temporary market impact function.\n",
    "    \n",
    "    Inputs\n",
    "    - u/tau, speed of trading\n",
    "    \"\"\"\n",
    "    tau = 1.\n",
    "    epsilon = 1./16.\n",
    "    eta = 2.5 * 10 ** (-3)\n",
    "    return epsilon * np.sign(u) + eta * (u/tau)\n",
    "\n",
    "def g(u):\n",
    "    \"\"\"\n",
    "    Permanent market impact function.\n",
    "    \"\"\"\n",
    "    gamma = 2.5 * 10 ** (-3)\n",
    "    return gamma * u\n",
    "\n",
    "def H(x,n):\n",
    "    \"\"\"\n",
    "    Hamiltonian equation. To be minimized through DP.\n",
    "    \"\"\"\n",
    "    tau = 1.\n",
    "    gamma = 2.5 * 10 ** (-3)\n",
    "    sigma = 0.3\n",
    "    res = n*g(n/tau) + gamma*(x-n)*tau*h(n/tau) - 0.5*(gamma**2)*(sigma**2)*tau\n",
    "    return res"
   ]
  },
  {
   "cell_type": "markdown",
   "metadata": {},
   "source": [
    "### 2.2. Dynamic programming: a simplified version\n",
    "\n",
    "Bellman equation:"
   ]
  },
  {
   "cell_type": "code",
   "execution_count": 47,
   "metadata": {},
   "outputs": [],
   "source": [
    "def dynamic_programming(nb_T, X_total):\n",
    "    \"\"\"\n",
    "    Bellman equation for solving Markov decision processes.\n",
    "    \n",
    "    Inputs\n",
    "    - nb_T, number of time steps\n",
    "    - X_total, number of shares to be liquidated\n",
    "    \"\"\"\n",
    "    # Init\n",
    "    tau = 1.\n",
    "    gamma = 2.5 * 10 ** (-5)\n",
    "    u = np.zeros(shape=(nb_T, X_total+1), dtype=\"float\")  # value function\n",
    "    b = np.zeros(shape=(nb_T, X_total+1), dtype=\"int\")    # best move\n",
    "    inventoryforX = np.zeros(shape=(nb_T,1),dtype=\"int\") # evolution of inventory\n",
    "    inventoryforX[0] = X_total\n",
    "    \n",
    "    # Terminal condition\n",
    "    for x in range(X_total+1):\n",
    "        u[nb_T - 1, x] = math.exp(gamma*x*h(x/tau))\n",
    "        b[nb_T - 1, x] = x\n",
    "    \n",
    "    # Backwards induction\n",
    "    for t in range(nb_T-2, -1, -1):\n",
    "        \n",
    "        for x in range(X_total+1):\n",
    "            \n",
    "            best_value = u[t+1,0] * math.exp(gamma*H(x,x))\n",
    "            best_n = x\n",
    "            \n",
    "            for n in range(x):\n",
    "                current_value = u[t+1,x-n] * math.exp(gamma*H(x,n)) # we compute the utility function if we sell n shares\n",
    "                \n",
    "                if current_value < best_value:\n",
    "                    best_value = current_value\n",
    "                    best_n = n #nb of shares to liquidate\n",
    "               \n",
    "            u[t,x] = best_value\n",
    "            b[t,x] = best_n\n",
    "                    \n",
    "    for t in range(1,nb_T):\n",
    "        inventoryforX[t] = inventoryforX[t-1] - b[t,inventoryforX[t-1]]\n",
    "            \n",
    "            \n",
    "    \n",
    "    return u, b,inventoryforX"
   ]
  },
  {
   "cell_type": "code",
   "execution_count": 48,
   "metadata": {},
   "outputs": [
    {
     "name": "stdout",
     "output_type": "stream",
     "text": [
      "[[ 0  1  0  0  0  0  0  0  0  0  0]\n",
      " [ 0  1  0  0  0  0  0  0  0  0  0]\n",
      " [ 0  1  0  0  0  0  0  0  0  0  0]\n",
      " [ 0  1  0  0  0  0  0  0  0  0  0]\n",
      " [ 0  1  0  0  0  0  0  0  0  0  1]\n",
      " [ 0  1  0  0  0  0  0  0  0  1  2]\n",
      " [ 0  1  0  0  0  0  0  0  1  2  2]\n",
      " [ 0  1  0  0  0  0  0  1  2  2  2]\n",
      " [ 0  1  0  0  0  0  1  2  2  2  2]\n",
      " [ 0  1  0  0  0  1  2  2  2  2  2]\n",
      " [ 0  1  0  0  1  2  2  2  2  3  3]\n",
      " [ 0  1  0  1  2  2  2  3  3  3  4]\n",
      " [ 0  1  1  2  2  3  3  4  4  5  5]\n",
      " [ 0  1  2  3  4  5  6  7  8  9 10]\n",
      " [ 0  1  2  3  4  5  6  7  8  9 10]]\n",
      "[[10]\n",
      " [10]\n",
      " [10]\n",
      " [10]\n",
      " [ 9]\n",
      " [ 8]\n",
      " [ 7]\n",
      " [ 6]\n",
      " [ 5]\n",
      " [ 4]\n",
      " [ 3]\n",
      " [ 2]\n",
      " [ 1]\n",
      " [ 0]\n",
      " [ 0]]\n"
     ]
    }
   ],
   "source": [
    "model = dynamic_programming(nb_T=15, X_total=10)\n",
    "#print(model[0])\n",
    "print(model[1])\n",
    "print(model[2])"
   ]
  },
  {
   "cell_type": "code",
   "execution_count": 5,
   "metadata": {},
   "outputs": [],
   "source": [
    "#print(model[1])"
   ]
  },
  {
   "cell_type": "code",
   "execution_count": 6,
   "metadata": {},
   "outputs": [
    {
     "data": {
      "text/plain": [
       "<matplotlib.figure.Figure at 0x1d9196f4080>"
      ]
     },
     "metadata": {},
     "output_type": "display_data"
    }
   ],
   "source": [
    "import matplotlib.pyplot as plt\n",
    "plt.plot(np.linspace(0, 10, len(model[1][-1][::-1])), model[1][-1][::-1], marker='o')\n",
    "plt.grid(True)\n",
    "plt.show()"
   ]
  },
  {
   "cell_type": "code",
   "execution_count": 7,
   "metadata": {},
   "outputs": [
    {
     "data": {
      "text/plain": [
       "array([9, 8, 7, 6, 5, 4, 3, 2, 1, 0])"
      ]
     },
     "execution_count": 7,
     "metadata": {},
     "output_type": "execute_result"
    }
   ],
   "source": [
    "model[1][-1][::-1]"
   ]
  },
  {
   "cell_type": "markdown",
   "metadata": {},
   "source": [
    "### 3. Complete dynamic programming"
   ]
  },
  {
   "cell_type": "code",
   "execution_count": 8,
   "metadata": {},
   "outputs": [],
   "source": [
    "# INITIALIZATION\n",
    "T = 5     # nb. of time steps\n",
    "X = 5     # nb. of shares to liquidate\n",
    "V = np.zeros((T, X))   # Value function\n",
    "b = np.zeros((T, X))   # Policy iteration"
   ]
  },
  {
   "cell_type": "code",
   "execution_count": 9,
   "metadata": {},
   "outputs": [
    {
     "name": "stdout",
     "output_type": "stream",
     "text": [
      "[[100.         100.         100.         100.         100.        ]\n",
      " [100.58599138 102.4320257  101.88870864  99.66186424 100.86753896]\n",
      " [103.52902715  96.821238   104.70295863 107.97522333 104.25644185]\n",
      " [109.07718363 101.50237872 105.25466176 116.66872476 113.09398311]\n",
      " [113.20404459 109.0646642  116.26729903 130.37457562 114.70174641]]\n"
     ]
    }
   ],
   "source": [
    "# STOCK PATH (S)\n",
    "S = np.zeros((T, X))\n",
    "zeta = np.random.standard_normal((T, X))\n",
    "sigma = 0.05\n",
    "dt = 0.5\n",
    "S[0] = 100.0\n",
    "tau = 1.0\n",
    "r = 0.05\n",
    "\n",
    "for x in range(X):\n",
    "    for t in range(1,T):\n",
    "        S[t,x] = S[t-1,x] * np.exp((r-0.5*sigma**2)*dt + sigma*np.sqrt(dt)*zeta[t,x])\n",
    "        #print(S[t,x])\n",
    "print(np.matrix(S))"
   ]
  },
  {
   "cell_type": "code",
   "execution_count": 10,
   "metadata": {},
   "outputs": [
    {
     "name": "stdout",
     "output_type": "stream",
     "text": [
      "[[  0.         102.4295257  203.76741727 298.96309271 403.43015583]\n",
      " [  0.          96.818738   209.39591726 323.90316998 416.98576741]\n",
      " [  0.         101.49987872 210.49932353 349.98367429 452.33593244]\n",
      " [  0.         109.0621642  232.52459806 391.10122686 458.76698564]\n",
      " [  0.         109.0621642  232.52459806 391.10122686 458.76698564]]\n"
     ]
    }
   ],
   "source": [
    "# REVENU (R)\n",
    "R = np.zeros((T, X))\n",
    "for x in range(X):\n",
    "    for t in range(1,T):\n",
    "        R[t,x] = R[t-1,x] = x * (S[t,x] - g(x))\n",
    "\n",
    "print(np.matrix(R))"
   ]
  },
  {
   "cell_type": "code",
   "execution_count": 11,
   "metadata": {},
   "outputs": [
    {
     "name": "stdout",
     "output_type": "stream",
     "text": [
      "[[0. 0. 0. 0. 0.]\n",
      " [0. 0. 0. 0. 0.]\n",
      " [0. 0. 0. 0. 0.]\n",
      " [0. 0. 0. 0. 0.]\n",
      " [1. 0. 0. 0. 0.]]\n"
     ]
    }
   ],
   "source": [
    "# TERMINAL CONDITION\n",
    "gamma = 0.5\n",
    "for x in range(X):\n",
    "    V[T-1,x] = np.exp(-gamma * (R[T-1,x] + x * (S[T-1,x] - 1)))\n",
    "print(np.matrix(V).round(2))"
   ]
  },
  {
   "cell_type": "code",
   "execution_count": 12,
   "metadata": {},
   "outputs": [
    {
     "ename": "SyntaxError",
     "evalue": "invalid syntax (<ipython-input-12-4fdf4285eb16>, line 4)",
     "output_type": "error",
     "traceback": [
      "\u001b[1;36m  File \u001b[1;32m\"<ipython-input-12-4fdf4285eb16>\"\u001b[1;36m, line \u001b[1;32m4\u001b[0m\n\u001b[1;33m    best_value =\u001b[0m\n\u001b[1;37m                 ^\u001b[0m\n\u001b[1;31mSyntaxError\u001b[0m\u001b[1;31m:\u001b[0m invalid syntax\n"
     ]
    }
   ],
   "source": [
    "# BACKWARD INDUCTION\n",
    "for t in range(T-2,-1,-1):\n",
    "    for x in range(X):\n",
    "        best_value = "
   ]
  },
  {
   "cell_type": "code",
   "execution_count": null,
   "metadata": {
    "collapsed": true
   },
   "outputs": [],
   "source": []
  }
 ],
 "metadata": {
  "kernelspec": {
   "display_name": "Python 3",
   "language": "python",
   "name": "python3"
  }
 },
 "nbformat": 4,
 "nbformat_minor": 2
}
