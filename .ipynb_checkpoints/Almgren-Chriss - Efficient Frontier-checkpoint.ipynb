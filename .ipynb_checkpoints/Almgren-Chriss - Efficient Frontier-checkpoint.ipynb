{
 "cells": [
  {
   "cell_type": "markdown",
   "metadata": {},
   "source": [
    "# Almgren-Chriss Optimal Execution - Efficient Frontier approach\n",
    "\n",
    "## Syllabus\n",
    "\n",
    "1. Almgren-Chriss framework\n",
    "2. Efficient frontier for implementation shortfall\n",
    "3. Efficient frontier for VWAP\n",
    "4. Efficient forntier for TWAP\n",
    "\n",
    "## 1. Almgren-Chriss framework\n",
    "\n",
    "The **Almgren-Chriss framework** (1999) is a mathematical model that looks to\n",
    "\n",
    "- Estimate the optimal pace to build/unwind a trading position, issues often faced by brokers and traders (but has not seen as much interest from statisticians, economists and econophysicists in the past decades);\n",
    "- Allows one to graphically represent the trade-off between slow/fast execution;\n",
    "- Ease to choose one's own prefered approach to model market impact costs;\n",
    "- Avoids the temptation of modelling the market as a physical system fully enclosed in its own data (*physics envy*);\n",
    "- Designed from a bottom-top approach: the modelling is based on the execution process itself;\n",
    "- Provides a multitude of modelling approaches to compute the slow/fast execution trade-off (e.g. dynamic programming, stochastic control, reinforcement learning, etc.).\n",
    "\n",
    "We will present 2 approaches to solve the Almgren-Chriss model:\n",
    "\n",
    "1. Efficient Frontier (original method)\n",
    "2. Dynamic Programming\n",
    "\n",
    "**Assumptions**\n",
    "\n",
    "- *Trading trajectory*\n",
    "\n",
    "$$ x_0 = X $$\n",
    "\n",
    "$$ n_k = x_k - x_{k-1} $$\n",
    "\n",
    "$$ x_k = X - \\sum_{j=1}^k n_j = \\sum_{j=k+1}^N n_k, \\, \\, \\, \\,\\, \\, \\,\\, \\, \\,   k=0,...,N $$\n",
    "\n",
    "- *Price trajectory*\n",
    "\n",
    "$$ S_k = S_{k-1} + \\sigma  \\sqrt{\\tau} \\zeta_k - \\tau g(\\frac{n_k}{\\tau}) $$\n",
    "\n",
    "$$ g(v) = \\gamma v $$\n",
    "\n",
    "$$ S_k = S_0 + \\sigma  \\sqrt{\\tau} \\sum_{j=1}^k \\zeta_j - \\gamma (X - x_k) $$\n",
    "\n",
    "- *Temporary market impact*\n",
    "\n",
    "$$ h(v) = \\varepsilon sign(n_i) + \\frac{\\eta}{\\tau} n_i $$\n",
    "\n",
    "$$ \\tilde S_k = S_{k-1} - h(\\frac{n_k}{\\tau}) $$"
   ]
  },
  {
   "cell_type": "code",
   "execution_count": 1,
   "metadata": {
    "collapsed": true
   },
   "outputs": [],
   "source": [
    "import numpy as np\n",
    "\n",
    "# Utilities\n",
    "\n",
    "def g(x, gamma=1.0):\n",
    "    \"\"\"\n",
    "    Permanent market impact.\n",
    "    \"\"\"\n",
    "    return gamma * x\n",
    "\n",
    "def h(x, tau=1.0, epsilon=1.0, eta=1.0):\n",
    "    \"\"\"\n",
    "    Temporary market impact.\n",
    "    \"\"\"\n",
    "    return epsilon*np.sign(x) + eta*(x/tau)"
   ]
  },
  {
   "cell_type": "markdown",
   "metadata": {},
   "source": [
    "## 2. Efficient frontier for implementation shortfall\n",
    "\n",
    "### 2.1. Optimization\n",
    "\n",
    "**Moments**\n",
    "\n",
    "$$ X_N = X S_0 - \\sum_{i=1}^N n_i \\tilde S_i $$\n",
    "\n",
    "$$ \\mathbb{E}(X_N) = \\sum_{i=1}^N \\tau x_i g(\\frac{n_i}{\\tau}) + \\sum_{i=1}^{N} n_i h(\\frac{n_i}{\\tau}) = \\frac{1}{2} \\gamma X^2 + \\varepsilon \\sum_{i=1}^N |n_i| + \\frac{\\eta-0.5\\gamma \\tau}{\\tau} \\sum_{i=1}^N n_i^2 $$\n",
    "\n",
    "$$ \\mathbb{V}(X_N) = \\sigma^2 \\sum_{i=1}^N \\tau x_i^2 $$\n",
    "\n",
    "Refresher:\n",
    "\n",
    "$$ x_t = X - \\sum_{j=1}^t n_j = \\sum_{j=t+1}^N n_j $$"
   ]
  },
  {
   "cell_type": "code",
   "execution_count": 46,
   "metadata": {
    "collapsed": true
   },
   "outputs": [],
   "source": [
    "# Moments\n",
    "\n",
    "def expectation_IS(N, tau=1.0, gamma=1.0, eta=1.0, eps=1.0):\n",
    "    \"\"\"\n",
    "    Expectation of implementation shortfall.\n",
    "    \"\"\"\n",
    "    exp = 0.5*gamma*X**2 + eps*np.sum(N) + (eta - 0.5*gamma*tau)/tau * np.sum(N**2)\n",
    "    return exp\n",
    "\n",
    "def variance_IS(N, sigma=0.3, tau=1.0):\n",
    "    \"\"\"\n",
    "    Variance of implementation shortfall.\n",
    "    \"\"\"\n",
    "    var = 0\n",
    "    t = - 1\n",
    "    while t < len(N) - 1:\n",
    "        t = t + 1\n",
    "        temp = (X - np.sum(N[0:t])) ** 2\n",
    "        var = var + temp\n",
    "    \n",
    "    var = tau * (sigma**2) * var\n",
    "    return var\n",
    "\n",
    "# Objective function\n",
    "\n",
    "def objective_IS(N):\n",
    "    \"\"\"\n",
    "    Objective function for implementation shortfall.\n",
    "    \"\"\"\n",
    "    obj = expectation_IS(N) + risk * variance_IS(N)\n",
    "    return obj"
   ]
  },
  {
   "cell_type": "markdown",
   "metadata": {},
   "source": [
    "**Optimization**\n",
    "\n",
    "$$ (n_1^*,...,n_N^*) = \\min_{0<n_i<X} \\mathbb{E}(X_N) + \\lambda * \\mathbb{V}(X_N) $$"
   ]
  },
  {
   "cell_type": "code",
   "execution_count": 122,
   "metadata": {},
   "outputs": [
    {
     "name": "stdout",
     "output_type": "stream",
     "text": [
      "Liquidation trajectory:\n",
      "\n",
      "[[ 3620.]\n",
      " [ 3293.]\n",
      " [ 2994.]\n",
      " [ 2723.]\n",
      " [ 2476.]\n",
      " [ 2254.]\n",
      " [ 2050.]\n",
      " [ 1863.]\n",
      " [ 1695.]\n",
      " [ 1544.]\n",
      " [ 1401.]\n",
      " [ 1277.]\n",
      " [ 1159.]\n",
      " [ 1056.]\n",
      " [  960.]\n",
      " [  873.]\n",
      " [  795.]\n",
      " [  724.]\n",
      " [  659.]\n",
      " [  599.]\n",
      " [  544.]\n",
      " [  495.]\n",
      " [  453.]\n",
      " [  412.]\n",
      " [  375.]\n",
      " [  342.]\n",
      " [  310.]\n",
      " [  284.]\n",
      " [  260.]\n",
      " [  236.]\n",
      " [  213.]\n",
      " [  199.]\n",
      " [  181.]\n",
      " [  168.]\n",
      " [  152.]\n",
      " [  140.]\n",
      " [  128.]\n",
      " [  117.]\n",
      " [  110.]\n",
      " [  102.]\n",
      " [   94.]\n",
      " [   88.]\n",
      " [   84.]\n",
      " [   80.]\n",
      " [   75.]\n",
      " [   71.]\n",
      " [   71.]\n",
      " [   70.]\n",
      " [   67.]\n",
      " [   66.]]\n",
      "\n",
      "Total number of shares:\n",
      "40000.0\n",
      "\n",
      "Expectation E(x):\n",
      "838002891.072\n",
      "\n",
      "Variance V(x):\n",
      "832574043.449\n"
     ]
    }
   ],
   "source": [
    "# Parameters\n",
    "nb_T = 50\n",
    "x0 = np.zeros((nb_T, 1))\n",
    "X = 40000\n",
    "risk = 0.05\n",
    "\n",
    "# Optimization\n",
    "from scipy.optimize import minimize\n",
    "\n",
    "bnds = tuple((0.0, X) for x in range(len(x0)))\n",
    "cons = ({'type': 'eq', 'fun': lambda x:  np.sum(x) - X})\n",
    "\n",
    "opt = minimize(objective_IS, x0, method='SLSQP', bounds=bnds, constraints=cons)\n",
    "N_opt = np.array(opt.x)\n",
    "\n",
    "print('Liquidation trajectory:\\n')\n",
    "print(np.matrix(opt.x.round(0)).T)\n",
    "\n",
    "print('\\nTotal number of shares:')\n",
    "print(np.sum(opt.x))\n",
    "\n",
    "print('\\nExpectation E(x):')\n",
    "print(expectation_IS(opt.x))\n",
    "\n",
    "print('\\nVariance V(x):')\n",
    "print(variance_IS(opt.x))"
   ]
  },
  {
   "cell_type": "markdown",
   "metadata": {},
   "source": [
    "We have the optimal trajectory, now we can detail the liquidation process from the first day till the last:"
   ]
  },
  {
   "cell_type": "code",
   "execution_count": 125,
   "metadata": {},
   "outputs": [
    {
     "name": "stdout",
     "output_type": "stream",
     "text": [
      "Liquidation history:\n",
      "\n",
      "[[ 40000.]\n",
      " [ 36707.]\n",
      " [ 33713.]\n",
      " [ 30990.]\n",
      " [ 28514.]\n",
      " [ 26260.]\n",
      " [ 24210.]\n",
      " [ 22346.]\n",
      " [ 20651.]\n",
      " [ 19107.]\n",
      " [ 17706.]\n",
      " [ 16429.]\n",
      " [ 15270.]\n",
      " [ 14214.]\n",
      " [ 13255.]\n",
      " [ 12381.]\n",
      " [ 11586.]\n",
      " [ 10862.]\n",
      " [ 10204.]\n",
      " [  9605.]\n",
      " [  9061.]\n",
      " [  8566.]\n",
      " [  8113.]\n",
      " [  7701.]\n",
      " [  7326.]\n",
      " [  6984.]\n",
      " [  6674.]\n",
      " [  6390.]\n",
      " [  6131.]\n",
      " [  5894.]\n",
      " [  5681.]\n",
      " [  5482.]\n",
      " [  5301.]\n",
      " [  5134.]\n",
      " [  4982.]\n",
      " [  4842.]\n",
      " [  4714.]\n",
      " [  4597.]\n",
      " [  4487.]\n",
      " [  4385.]\n",
      " [  4291.]\n",
      " [  4203.]\n",
      " [  4119.]\n",
      " [  4039.]\n",
      " [  3964.]\n",
      " [  3893.]\n",
      " [  3823.]\n",
      " [  3753.]\n",
      " [  3686.]\n",
      " [  3620.]]\n"
     ]
    }
   ],
   "source": [
    "def liquidation_history(N_opt, X):\n",
    "    \"\"\"\n",
    "    Prints out the liquidation history of the optimal execution.\n",
    "    \"\"\"\n",
    "    hist = np.zeros((len(N_opt), 1))\n",
    "    hist[0] = X\n",
    "    \n",
    "    for i in range(1, len(N_opt)):\n",
    "        hist[i] = hist[i-1] - N_opt[i]\n",
    "    \n",
    "    return hist\n",
    "\n",
    "hist_opt = liquidation_history(N_opt, X)\n",
    "\n",
    "print('Liquidation history:\\n')\n",
    "print(hist_opt.round(0))"
   ]
  },
  {
   "cell_type": "code",
   "execution_count": 126,
   "metadata": {},
   "outputs": [
    {
     "data": {
      "image/png": "[encoded data removed]",
      "text/plain": [
       "<matplotlib.figure.Figure at 0x1740df9c1d0>"
      ]
     },
     "metadata": {},
     "output_type": "display_data"
    }
   ],
   "source": [
    "import matplotlib.pyplot as plt\n",
    "\n",
    "plt.figure(figsize=(7,5))\n",
    "plt.plot(hist_opt, color='blue', lw=1.5)\n",
    "plt.grid(True)\n",
    "plt.xlabel('Day')\n",
    "plt.ylabel('Nb. of shares')\n",
    "plt.show()"
   ]
  },
  {
   "cell_type": "markdown",
   "metadata": {},
   "source": [
    "### 2.2. Hyperparameter testing"
   ]
  },
  {
   "cell_type": "code",
   "execution_count": 130,
   "metadata": {},
   "outputs": [],
   "source": [
    "def efficient_frontier_IS(X, risk, nb_T, tau=1.0, gamma=1.0, eta=1.0, eps=1.0, plot='True'):\n",
    "    \n",
    "    def expectation_IS(N):\n",
    "        \"\"\"\n",
    "        Expectation of implementation shortfall.\n",
    "        \"\"\"\n",
    "        exp = 0.5*gamma*X**2 + eps*np.sum(N) + (eta - 0.5*gamma)/tau * np.sum(N**2)\n",
    "        return exp\n",
    "\n",
    "    def variance_IS(N, sigma=0.3):\n",
    "        \"\"\"\n",
    "        Variance of implementation shortfall.\n",
    "        \"\"\"\n",
    "        var = 0\n",
    "        t = - 1\n",
    "        while t < len(N) - 1:\n",
    "            t = t + 1\n",
    "            temp = (X - np.sum(N[0:t])) ** 2\n",
    "            var = var + temp\n",
    "        var = tau * (sigma**2) * var\n",
    "        return var\n",
    "    \n",
    "    def objective_IS(N):\n",
    "        \"\"\"\n",
    "        Objective function for implementation shortfall.\n",
    "        \"\"\"\n",
    "        obj = expectation_IS(N) + risk * variance_IS(N)\n",
    "        return obj\n",
    "    \n",
    "    def optimization_IS():\n",
    "        \"\"\"\n",
    "        Optimal execution with optimization for implementation shortfall.\n",
    "        \"\"\"\n",
    "        x0 = np.zeros((nb_T, 1))\n",
    "        bnds = tuple((0.0, X) for x in range(len(x0)))\n",
    "        cons = ({'type': 'eq', 'fun': lambda x:  np.sum(x) - X})\n",
    "        opt = minimize(objective_IS, x0, method='SLSQP', bounds=bnds, constraints=cons)\n",
    "        N = np.array(opt.x)\n",
    "        return N\n",
    "    \n",
    "    N_opt = optimization_IS()\n",
    "    \n",
    "    def liquidation_history(N_opt, X):\n",
    "        \"\"\"\n",
    "        Prints out the liquidation history of the optimal execution.\n",
    "        \"\"\"\n",
    "        hist = np.zeros((len(N_opt), 1))\n",
    "        hist[0] = X\n",
    "        for i in range(1, len(N_opt)):\n",
    "            hist[i] = hist[i-1] - N_opt[i]\n",
    "        return hist\n",
    "    \n",
    "    hist_opt = liquidation_history(N_opt,X)\n",
    "\n",
    "    def plot_liquidation():\n",
    "        plt.figure(figsize=(7,5))\n",
    "        plt.plot(hist_opt, color='blue', lw=1.5)\n",
    "        plt.grid(True)\n",
    "        plt.xlabel('Time')\n",
    "        plt.ylabel('Nb. of shares')\n",
    "        plt.show()\n",
    "    \n",
    "    if plot=='True':\n",
    "        plot_liquidation()\n",
    "    \n",
    "    res = hist_opt.round(0), expectation_IS(N_opt), variance_IS(N_opt)\n",
    "    \n",
    "    return res"
   ]
  },
  {
   "cell_type": "code",
   "execution_count": 131,
   "metadata": {
    "scrolled": false
   },
   "outputs": [
    {
     "data": {
      "image/png": "[encoded data removed]",
      "text/plain": [
       "<matplotlib.figure.Figure at 0x17409c04320>"
      ]
     },
     "metadata": {},
     "output_type": "display_data"
    },
    {
     "data": {
      "text/plain": [
       "array([[ 40000.],\n",
       "       [ 38329.],\n",
       "       [ 36721.],\n",
       "       [ 35182.],\n",
       "       [ 33704.],\n",
       "       [ 32283.],\n",
       "       [ 30924.],\n",
       "       [ 29615.],\n",
       "       [ 28360.],\n",
       "       [ 27157.],\n",
       "       [ 26003.],\n",
       "       [ 24893.],\n",
       "       [ 23826.],\n",
       "       [ 22806.],\n",
       "       [ 21823.],\n",
       "       [ 20881.],\n",
       "       [ 19972.],\n",
       "       [ 19101.],\n",
       "       [ 18264.],\n",
       "       [ 17457.],\n",
       "       [ 16680.],\n",
       "       [ 15933.],\n",
       "       [ 15209.],\n",
       "       [ 14514.],\n",
       "       [ 13844.],\n",
       "       [ 13196.],\n",
       "       [ 12570.],\n",
       "       [ 11963.],\n",
       "       [ 11376.],\n",
       "       [ 10806.],\n",
       "       [ 10255.],\n",
       "       [  9717.],\n",
       "       [  9195.],\n",
       "       [  8688.],\n",
       "       [  8196.],\n",
       "       [  7712.],\n",
       "       [  7240.],\n",
       "       [  6781.],\n",
       "       [  6331.],\n",
       "       [  5889.],\n",
       "       [  5455.],\n",
       "       [  5025.],\n",
       "       [  4604.],\n",
       "       [  4185.],\n",
       "       [  3770.],\n",
       "       [  3364.],\n",
       "       [  2957.],\n",
       "       [  2552.],\n",
       "       [  2149.],\n",
       "       [  1745.]])"
      ]
     },
     "execution_count": 131,
     "metadata": {},
     "output_type": "execute_result"
    }
   ],
   "source": [
    "efficient_frontier_IS(X=40000, risk=2*10**(-7), nb_T=50,\n",
    "                      tau=0.5,  # 0.75\n",
    "                      gamma=2.5*10**(-7),\n",
    "                      eta=2.5*10**(-6),\n",
    "                      eps=0.0625)[0]"
   ]
  },
  {
   "cell_type": "code",
   "execution_count": 132,
   "metadata": {
    "scrolled": false
   },
   "outputs": [
    {
     "data": {
      "image/png": "[encoded data removed]",
      "text/plain": [
       "<matplotlib.figure.Figure at 0x1740dfdd160>"
      ]
     },
     "metadata": {},
     "output_type": "display_data"
    },
    {
     "data": {
      "text/plain": [
       "array([[ 40000.],\n",
       "       [ 40000.],\n",
       "       [ 40000.],\n",
       "       [ 40000.],\n",
       "       [ 40000.],\n",
       "       [ 40000.],\n",
       "       [ 40000.],\n",
       "       [ 40000.],\n",
       "       [ 40000.],\n",
       "       [ 40000.],\n",
       "       [ 40000.],\n",
       "       [ 40000.],\n",
       "       [ 40000.],\n",
       "       [ 40000.],\n",
       "       [ 39985.],\n",
       "       [ 39888.],\n",
       "       [ 39709.],\n",
       "       [ 39449.],\n",
       "       [ 39110.],\n",
       "       [ 38693.],\n",
       "       [ 38198.],\n",
       "       [ 37629.],\n",
       "       [ 36985.],\n",
       "       [ 36270.],\n",
       "       [ 35485.],\n",
       "       [ 34632.],\n",
       "       [ 33712.],\n",
       "       [ 32729.],\n",
       "       [ 31684.],\n",
       "       [ 30579.],\n",
       "       [ 29416.],\n",
       "       [ 28200.],\n",
       "       [ 26931.],\n",
       "       [ 25612.],\n",
       "       [ 24245.],\n",
       "       [ 22835.],\n",
       "       [ 21382.],\n",
       "       [ 19889.],\n",
       "       [ 18361.],\n",
       "       [ 16799.],\n",
       "       [ 15207.],\n",
       "       [ 13588.],\n",
       "       [ 11943.],\n",
       "       [ 10278.],\n",
       "       [  8594.],\n",
       "       [  6894.],\n",
       "       [  5181.],\n",
       "       [  3459.],\n",
       "       [  1731.],\n",
       "       [    -0.]])"
      ]
     },
     "execution_count": 132,
     "metadata": {},
     "output_type": "execute_result"
    }
   ],
   "source": [
    "efficient_frontier_IS(X=40000, risk=-2*10**(-7), nb_T=50,\n",
    "                      tau=0.5,\n",
    "                      gamma=2.5*10**(-7),\n",
    "                      eta=2.5*10**(-6),\n",
    "                      eps=0.0625)[0]"
   ]
  },
  {
   "cell_type": "markdown",
   "metadata": {},
   "source": [
    "### 2.3. Efficient frontier"
   ]
  },
  {
   "cell_type": "code",
   "execution_count": 160,
   "metadata": {},
   "outputs": [
    {
     "data": {
      "text/plain": [
       "array([  1.00000000e-08,   2.00000000e-08,   3.00000000e-08,\n",
       "         4.00000000e-08,   5.00000000e-08,   6.00000000e-08,\n",
       "         7.00000000e-08,   8.00000000e-08,   9.00000000e-08,\n",
       "         1.00000000e-07,   1.10000000e-07,   1.20000000e-07,\n",
       "         1.30000000e-07,   1.40000000e-07,   1.50000000e-07,\n",
       "         1.60000000e-07,   1.70000000e-07,   1.80000000e-07,\n",
       "         1.90000000e-07,   2.00000000e-07,   2.10000000e-07,\n",
       "         2.20000000e-07,   2.30000000e-07,   2.40000000e-07,\n",
       "         2.50000000e-07,   2.60000000e-07,   2.70000000e-07,\n",
       "         2.80000000e-07,   2.90000000e-07,   3.00000000e-07,\n",
       "         3.10000000e-07,   3.20000000e-07,   3.30000000e-07,\n",
       "         3.40000000e-07,   3.50000000e-07,   3.60000000e-07,\n",
       "         3.70000000e-07,   3.80000000e-07,   3.90000000e-07,\n",
       "         4.00000000e-07,   4.10000000e-07,   4.20000000e-07,\n",
       "         4.30000000e-07,   4.40000000e-07,   4.50000000e-07,\n",
       "         4.60000000e-07,   4.70000000e-07,   4.80000000e-07,\n",
       "         4.90000000e-07,   5.00000000e-07])"
      ]
     },
     "execution_count": 160,
     "metadata": {},
     "output_type": "execute_result"
    }
   ],
   "source": [
    "risks = np.linspace(0.1*10**(-7), 5.0*10**(-7), 50)\n",
    "risks"
   ]
  },
  {
   "cell_type": "code",
   "execution_count": 161,
   "metadata": {
    "scrolled": false
   },
   "outputs": [],
   "source": [
    "# risks = [-2*10**(-8), 0.5*10**(-7), 1.0*10**(-7), 1.5*10**(-7), 2.0*10**(-7)]\n",
    "\n",
    "x = []\n",
    "y = []\n",
    "\n",
    "for r in risks:\n",
    "    temp = efficient_frontier_IS(X=40000, risk=r, nb_T=50,\n",
    "                                 tau=0.5, gamma=2.5*10**(-7), eta=2.5*10**(-6),\n",
    "                                 eps=0.0625, plot='False')\n",
    "    \n",
    "    x.append(temp[2])  # V(x)\n",
    "    y.append(temp[1])  # E(x)\n",
    "    \n",
    "# print(x)\n",
    "# print(y)"
   ]
  },
  {
   "cell_type": "code",
   "execution_count": 162,
   "metadata": {},
   "outputs": [
    {
     "data": {
      "image/png": "[encoded data removed]",
      "text/plain": [
       "<matplotlib.figure.Figure at 0x174087f07b8>"
      ]
     },
     "metadata": {},
     "output_type": "display_data"
    }
   ],
   "source": [
    "plt.figure(figsize=(7,5))\n",
    "plt.scatter(x, y, marker='o', color='blue')\n",
    "plt.grid(True)\n",
    "plt.xlabel('Variance V(x)')\n",
    "plt.ylabel('Expectation E(x)')\n",
    "plt.title('Efficient frontier of implementation shortfall')\n",
    "plt.show()"
   ]
  },
  {
   "cell_type": "code",
   "execution_count": null,
   "metadata": {
    "collapsed": true
   },
   "outputs": [],
   "source": []
  }
 ],
 "metadata": {
  "kernelspec": {
   "display_name": "Python 3",
   "language": "python",
   "name": "python3"
  },
  "language_info": {
   "codemirror_mode": {
    "name": "ipython",
    "version": 3
   },
   "file_extension": ".py",
   "mimetype": "text/x-python",
   "name": "python",
   "nbconvert_exporter": "python",
   "pygments_lexer": "ipython3",
   "version": "3.6.3"
  }
 },
 "nbformat": 4,
 "nbformat_minor": 2
}
