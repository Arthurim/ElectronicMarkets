{
 "cells": [
  {
   "cell_type": "markdown",
   "metadata": {},
   "source": [
    "# Almgren-Chriss - Volatility estimation\n",
    "\n",
    "Suppose we have a lognormal process $X_t = \\ln S_t $ where $S_t$ is the stock price:\n",
    "\n",
    "$$ dX_t = \\mu_t dt + \\sigma_t dB_t $$.\n",
    "\n",
    "## 1. Naïve estimator\n",
    "\n",
    "It is common practice to estimate volatility through a sum of sampled squared returns:\n",
    "\n",
    "$$ [X,X]_T = \\sum_{t_i} (X_{t_{i+1}}-X_{t_i})^2 $$\n",
    "\n",
    "This estimator relies on the following approximation that the the sum of sampled squared returns converges to the continuous-time volatility:\n",
    "\n",
    "$$ \\lim_{t_i \\rightarrow \\infty} \\sum_{t_i} (X_{t_{i+1}}-X_{t_i})^2 = \\int_{0}^T \\sigma_t^2 dt $$\n",
    "\n",
    "We implement this in Python:"
   ]
  },
  {
   "cell_type": "code",
   "execution_count": 51,
   "metadata": {
    "collapsed": true
   },
   "outputs": [],
   "source": [
    "def volNaive(Price):\n",
    "    Returns=np.log(Price[1:]/Price[1:].shift(-1))\n",
    "    ##res=0\n",
    "    ##for i in range(1,len(Returns)):\n",
    "        ##res=res+(Returns[i]-Returns[i-1])**2\n",
    "    return np.std(Returns)"
   ]
  },
  {
   "cell_type": "markdown",
   "metadata": {},
   "source": [
    "According to Zhang, Mykland and Aït-Sahalia (2005), this approach only works for extremely high sampling frequences and is inconsistent with real-world market microstructure where return time series are sampled at multiple tick sizes. We thus need to correct for microstructure biases (not taking into account the existence of a bid-ask spread for example).\n",
    "\n",
    "## 2. ZMA estimator\n",
    "\n",
    "A common approach among researchers who wish to correct microstructure biases is to choose lower sampling frequencies. But this approach might lead to discaring large amounts of data. For Zhang, Mykland and Aït-Sahalia (2005), reducing sampling frequency is not sufficient to correct for microstructure biases, it merely increases its impact on volatility estimation.\n",
    "\n",
    "One model-free solution proposed by Zhang, Mykland and Aït-Sahalia (2005) is to consider returns as an unobservable $X_t$ latent variable and $Y_t$ our best estimation of the latent returns.\n",
    "\n",
    "$$ Y_{t_i} = X_{t_i} + \\varepsilon_{t_i} $$\n",
    "\n",
    "ZMA offer 5 possible estimators to implement:\n",
    "\n",
    "1. *Naïve estimator*\n",
    "2. *Lower frequency estimator*\n",
    "3. *Optimal lower frequency estimator*\n",
    "4. *Average of subsampled estimators*\n",
    "5. *Average of subsampled estimators + Naïve estimator*\n",
    "\n",
    "We will focus on their \"first-best approach\" (the 5th). We start by computing the naïve estimator:\n",
    "\n",
    "$$ [Y,Y]_T^{(all)} = \\sum_{i=1}^N (Y_{t_{i+1}}-Y_{t_i})^2 $$\n",
    "\n",
    "with $N$ the number of observation of our data sample over all period $T$. Since $[Y,Y]_T^{(all)}$ is prone to market microstructure biases but at the same time it is hard to find the optimal sampling frequency for the volatility estimator. One solution proposed by ZMA is to average estimators $[Y,Y]_T^{(k)}$ across $K$ grids of average size $\\bar n$, given by $[Y,Y]_T^{(avg)}$:\n",
    "\n",
    "$$ [Y,Y]_T^{(avg)} = \\frac{1}{K} \\sum_{k=1}^K [Y,Y]_T^{(k)} $$\n",
    "\n",
    "The \"first-best approach\" combines both the **naïve estimator** $[Y,Y]_T^{(all)}$ and the **average of subsampled estimators** $[Y,Y]_T^{(avg)}$, and gives an estimation of the latent $X_{t}$ process:\n",
    "\n",
    "$$ \\hat{[X,X]_T} = [Y,Y]_T^{(avg)} - \\frac{\\bar n}{n} [Y,Y]_T^{(all)} $$\n",
    "\n",
    "where $n$ is the number of observations, $\\bar n$ is the subsample size of a grid (which we get through $\\bar n = \\frac{n}{K} $) and $K = cn^{2/3}$ is the number of grids with $c = (\\frac{T}{12(E\\varepsilon^2)^2} \\int_0^T \\sigma_t^4 dt)^{-1/3}$.\n",
    "\n",
    "Finally, we compute the adjusted estimator:\n",
    "\n",
    "$$ \\hat{[X,X]_T}^{(adj)} = (1 - \\frac{\\bar n}{n})^{-1} \\hat{[X,X]_T}   $$"
   ]
  },
  {
   "cell_type": "markdown",
   "metadata": {},
   "source": [
    "We start by computing:\n",
    "\n",
    "$$ [Y,Y]_T^{(avg)} = \\frac{1}{K} \\sum_{k=1}^K [Y,Y]_T^{(k)} $$"
   ]
  },
  {
   "cell_type": "markdown",
   "metadata": {},
   "source": [
    "We compute the naïve estimator:\n",
    "\n",
    "$$ [Y,Y]_T^{(avg)} = \\frac{1}{K} \\sum_{k=1}^K [Y,Y]_T^{(k)} $$"
   ]
  },
  {
   "cell_type": "markdown",
   "metadata": {},
   "source": [
    "Thus, we get:\n",
    "\n",
    "$$ \\hat{[X,X]_T} = [Y,Y]_T^{(avg)} - \\frac{\\bar n}{n} [Y,Y]_T^{(all)} $$\n",
    "\n",
    "$$ \\hat{[X,X]_T}^{(adj)} = (1 - \\frac{\\bar n}{n})^{-1} \\hat{[X,X]_T}   $$"
   ]
  },
  {
   "cell_type": "code",
   "execution_count": 49,
   "metadata": {
    "collapsed": true
   },
   "outputs": [],
   "source": [
    "def ZMA_estimator(Price):\n",
    "    \"\"\"\n",
    "    Zhang, Mykland & Aït-Sahalia (adjusted) volatility estimator\n",
    "    \"\"\"\n",
    "    # Initialization\n",
    "    n = R.shape[0]\n",
    "    c = 0.05   # This needs to be changed: formula is very complex\n",
    "    K = c * n ** (2/3)\n",
    "    K = int(K)\n",
    "    n_bar = n / K\n",
    "    \n",
    "    # Partition\n",
    "    def split_seq(seq, size):\n",
    "        newseq = []\n",
    "        splitsize = 1.0/size*len(seq)\n",
    "        for i in range(size):\n",
    "                newseq.append(seq[int(round(i*splitsize)):int(round((i+1)*splitsize))])\n",
    "        return newseq\n",
    "    \n",
    "    ret_ks = split_seq(Price, K)\n",
    "    # print(K)\n",
    "    \n",
    "    # Compute vol_k for the entire partition and vol_average\n",
    "    vol_ks = []\n",
    "    for ret_k in ret_ks:\n",
    "        vol_k = volNaive(ret_k)\n",
    "        vol_ks.append(vol_k)\n",
    "    \n",
    "    vol_average = np.mean(vol_ks)\n",
    "    \n",
    "    # Compute ZMA estimator\n",
    "    vol = vol_average - n_bar/n * volNaive(Price)\n",
    "    vol_adj = (1 - n_bar/n)**(-1) * vol\n",
    "    \n",
    "    return vol_adj"
   ]
  },
  {
   "cell_type": "code",
   "execution_count": 154,
   "metadata": {},
   "outputs": [
    {
     "data": {
      "text/plain": [
       "0.023994480462849261"
      ]
     },
     "execution_count": 154,
     "metadata": {},
     "output_type": "execute_result"
    }
   ],
   "source": [
    "ZMA_estimator(ret) * np.sqrt(252)"
   ]
  },
  {
   "cell_type": "markdown",
   "metadata": {},
   "source": [
    "We should test this on a rolling window basis:"
   ]
  },
  {
   "cell_type": "code",
   "execution_count": 155,
   "metadata": {
    "collapsed": true
   },
   "outputs": [],
   "source": [
    "i = -1\n",
    "results_zma = []\n",
    "results_naive = []\n",
    "results_gk=[]\n",
    "results_yz=[]\n",
    "results_gkyz=[]\n",
    "results_rs=[]\n",
    "results_park=[]\n",
    "\n",
    "while 10000 + i < len(ret):\n",
    "    \n",
    "    i = i + 1\n",
    "    \n",
    "    # Returns\n",
    "    temp_R = ret[0+i:10000+i]\n",
    "    \n",
    "    # ZMA estimator\n",
    "    results_zma.append(ZMA_estimator(temp_R))\n",
    "    \n",
    "    # Naive estimator\n",
    "    results_naive.append(np.std(temp_R))"
   ]
  },
  {
   "cell_type": "code",
   "execution_count": 158,
   "metadata": {},
   "outputs": [
    {
     "data": {
      "image/png": "[encoded data removed]",
      "text/plain": [
       "<matplotlib.figure.Figure at 0x222fa8d51d0>"
      ]
     },
     "metadata": {},
     "output_type": "display_data"
    }
   ],
   "source": [
    "naive = np.array(results_naive[1:]) * np.sqrt(252)\n",
    "zma = np.array(results_zma[1:]) * np.sqrt(252)\n",
    "\n",
    "plt.figure(figsize=(7,5))\n",
    "plt.plot(naive, color='blue', label='Naive estimator', lw=0.5)\n",
    "plt.plot(zma, color='red', label='ZMA estimator', lw=0.5)\n",
    "plt.xlabel('Time $t$')\n",
    "plt.ylabel('Volatility $\\sigma_t$')\n",
    "plt.legend(loc='best')\n",
    "plt.grid(True)\n",
    "plt.show()"
   ]
  },
  {
   "cell_type": "markdown",
   "metadata": {},
   "source": [
    "## 3. Garman-Klass estimator\n",
    "\n",
    "There are different methods of calculating volatility using some or all of the open (O), high (H), low (L) and close (C). The Garman-Klass estimator is an extension of Parkinson which includes opening and closing prices (if opening prices are not available the close from the previous day can be used instead).\n",
    "\n",
    "$$ \\sigma_{GK} = \\sqrt{\\frac{F}{N}} \\sqrt{\\sum_{i=1}^{N} [ln(\\frac{h_i}{l_i})^2 - (2\\ln(2)-1) \\ln(\\frac{c_i}{o_i})^2 ]} $$"
   ]
  },
  {
   "cell_type": "code",
   "execution_count": 71,
   "metadata": {
    "collapsed": true
   },
   "outputs": [],
   "source": [
    "def garman_klass(High,Low,Open,Close):\n",
    "    \"\"\"\n",
    "    Garman-Klass volatility estimator. Requires dataframe with Open, High, Low and Close prices.\n",
    "    \"\"\"\n",
    "    log_hl = np.log(High[1:] / Low[1:])\n",
    "    log_cc = np.log(Close[1:] /Open[1:])\n",
    "    ans = 0.5*log_hl**2 - (2*np.log(2)-1) * log_cc**2\n",
    "    return np.sqrt(np.sum(ans)*1/(len(High)-1))"
   ]
  },
  {
   "cell_type": "code",
   "execution_count": 72,
   "metadata": {
    "collapsed": true
   },
   "outputs": [],
   "source": [
    "def parkinson(High,Low):\n",
    "    return np.sqrt(1/(4*np.log(2))*np.sum(np.log(High[1:]/Low[1:])**2)*1/(len(High)-1))"
   ]
  },
  {
   "cell_type": "code",
   "execution_count": 73,
   "metadata": {
    "collapsed": true
   },
   "outputs": [],
   "source": [
    "def rogers_satchell(High,Low,Open,Close):\n",
    "    val=np.log(High[1:]/Close[1:])*np.log(High[1:]/Open[1:])+np.log(Low[1:]/Close[1:])*np.log(Low[1:]/Open[1:])\n",
    "    return np.sqrt(np.sum(val)*1/len(High))"
   ]
  },
  {
   "cell_type": "code",
   "execution_count": 74,
   "metadata": {
    "collapsed": true
   },
   "outputs": [],
   "source": [
    "def garman_klass_yang_zang(High,Low,Open,Close):\n",
    "    val=np.log(Open[1:]/Close[1:].shift(-1))**2+0.5*(np.log(High[1:]/Low[1:]))**2+(2*np.log(2)-1)*(np.log(Close[1:]/Open[1:]))**2\n",
    "    return np.sqrt(np.sum(val)*1/(len(High)-1))"
   ]
  },
  {
   "cell_type": "code",
   "execution_count": 75,
   "metadata": {
    "collapsed": true
   },
   "outputs": [],
   "source": [
    "def yang_zhang(High,Low,Open,Close):\n",
    "    N=len(Open)\n",
    "    k=0.34/(1.34+(N+1)/(N-1))\n",
    "    Overnight_Vol_Mean=np.mean(np.log(Open[1:]/Close[1:].shift(-1)))\n",
    "    Open_to_Close_Vol_Mean=np.mean(np.log(Open/Close))\n",
    "    Overnight_Vol=1/(N-1)*np.sum((np.log(Open[1:]/Close[1:].shift(-1))-Overnight_Vol_Mean)**2)\n",
    "    Open_to_Close_Vol=1/(N-1)*np.sum((np.log(Open/Close)-Open_to_Close_Vol_Mean)**2)\n",
    "    return np.sqrt(N)*(Overnight_Vol+k*Open_to_Close_Vol+(1-k)*rogers_satchell(High,Low,Open,Close))"
   ]
  },
  {
   "cell_type": "markdown",
   "metadata": {},
   "source": [
    "## 4. Application"
   ]
  },
  {
   "cell_type": "code",
   "execution_count": 87,
   "metadata": {},
   "outputs": [
    {
     "name": "stderr",
     "output_type": "stream",
     "text": [
      "C:\\Users\\MBizri\\AppData\\Local\\Continuum\\anaconda3\\lib\\site-packages\\pandas\\util\\_decorators.py:118: FutureWarning: The `sheetname` keyword is deprecated, use `sheet_name` instead\n",
      "  return func(*args, **kwargs)\n"
     ]
    }
   ],
   "source": [
    "import pandas as pd\n",
    "\n",
    "data = pd.read_excel('C:/Users/MBizri/Downloads/data.xlsx', sheet_name='1_min_IBM')\n",
    "data1 = pd.read_excel('C:/Users/MBizri/Downloads/data.xlsx', sheetname='10_min_FP', header=0, index_col=0)\n",
    "data2 = pd.read_excel('C:/Users/MBizri/Downloads/data.xlsx', sheetname='5_min_FP', header=0, index_col=0)\n",
    "data3 = pd.read_excel('C:/Users/MBizri/Downloads/data.xlsx', sheetname='1_min_FP', header=0, index_col=0)"
   ]
  },
  {
   "cell_type": "code",
   "execution_count": 88,
   "metadata": {},
   "outputs": [
    {
     "data": {
      "text/html": [
       "<div>\n",
       "<style scoped>\n",
       "    .dataframe tbody tr th:only-of-type {\n",
       "        vertical-align: middle;\n",
       "    }\n",
       "\n",
       "    .dataframe tbody tr th {\n",
       "        vertical-align: top;\n",
       "    }\n",
       "\n",
       "    .dataframe thead th {\n",
       "        text-align: right;\n",
       "    }\n",
       "</style>\n",
       "<table border=\"1\" class=\"dataframe\">\n",
       "  <thead>\n",
       "    <tr style=\"text-align: right;\">\n",
       "      <th></th>\n",
       "      <th>Open</th>\n",
       "      <th>Close</th>\n",
       "      <th>High</th>\n",
       "      <th>Low</th>\n",
       "      <th>Volume</th>\n",
       "      <th>Value</th>\n",
       "    </tr>\n",
       "    <tr>\n",
       "      <th>Dates</th>\n",
       "      <th></th>\n",
       "      <th></th>\n",
       "      <th></th>\n",
       "      <th></th>\n",
       "      <th></th>\n",
       "      <th></th>\n",
       "    </tr>\n",
       "  </thead>\n",
       "  <tbody>\n",
       "    <tr>\n",
       "      <th>2018-03-01 09:00:00</th>\n",
       "      <td>46.630</td>\n",
       "      <td>46.650</td>\n",
       "      <td>46.665</td>\n",
       "      <td>46.575</td>\n",
       "      <td>185514</td>\n",
       "      <td>8.650095e+06</td>\n",
       "    </tr>\n",
       "    <tr>\n",
       "      <th>2018-03-01 09:01:00</th>\n",
       "      <td>46.655</td>\n",
       "      <td>46.725</td>\n",
       "      <td>46.750</td>\n",
       "      <td>46.645</td>\n",
       "      <td>13749</td>\n",
       "      <td>6.420962e+05</td>\n",
       "    </tr>\n",
       "    <tr>\n",
       "      <th>2018-03-01 09:02:00</th>\n",
       "      <td>46.710</td>\n",
       "      <td>46.705</td>\n",
       "      <td>46.720</td>\n",
       "      <td>46.655</td>\n",
       "      <td>8316</td>\n",
       "      <td>3.882168e+05</td>\n",
       "    </tr>\n",
       "    <tr>\n",
       "      <th>2018-03-01 09:03:00</th>\n",
       "      <td>46.715</td>\n",
       "      <td>46.725</td>\n",
       "      <td>46.730</td>\n",
       "      <td>46.685</td>\n",
       "      <td>8709</td>\n",
       "      <td>4.067956e+05</td>\n",
       "    </tr>\n",
       "    <tr>\n",
       "      <th>2018-03-01 09:04:00</th>\n",
       "      <td>46.740</td>\n",
       "      <td>46.755</td>\n",
       "      <td>46.755</td>\n",
       "      <td>46.710</td>\n",
       "      <td>2963</td>\n",
       "      <td>1.384752e+05</td>\n",
       "    </tr>\n",
       "  </tbody>\n",
       "</table>\n",
       "</div>"
      ],
      "text/plain": [
       "                       Open   Close    High     Low  Volume         Value\n",
       "Dates                                                                    \n",
       "2018-03-01 09:00:00  46.630  46.650  46.665  46.575  185514  8.650095e+06\n",
       "2018-03-01 09:01:00  46.655  46.725  46.750  46.645   13749  6.420962e+05\n",
       "2018-03-01 09:02:00  46.710  46.705  46.720  46.655    8316  3.882168e+05\n",
       "2018-03-01 09:03:00  46.715  46.725  46.730  46.685    8709  4.067956e+05\n",
       "2018-03-01 09:04:00  46.740  46.755  46.755  46.710    2963  1.384752e+05"
      ]
     },
     "execution_count": 88,
     "metadata": {},
     "output_type": "execute_result"
    }
   ],
   "source": [
    "data3.head(5)"
   ]
  },
  {
   "cell_type": "code",
   "execution_count": 90,
   "metadata": {},
   "outputs": [
    {
     "name": "stdout",
     "output_type": "stream",
     "text": [
      "0.0003276480481814405\n",
      "0.00035136830718171123\n",
      "0.00033003804668612746\n",
      "0.000796302641142602\n",
      "0.0004403064101505046\n",
      "0.0003823057796601357\n"
     ]
    }
   ],
   "source": [
    "High=data3[\"High\"]\n",
    "##High=np.log(High[1:]/High[1:].shift(-1))\n",
    "Low=data3[\"Low\"]\n",
    "##Low=np.log(Low[1:]/Low[1:].shift(-1))\n",
    "Open=data3[\"Open\"]\n",
    "##Open=np.log(Open[1:]/Open[1:].shift(-1))\n",
    "Close=data3[\"Close\"]\n",
    "##Close=np.log(Close[1:]/Close[1:].shift(-1))\n",
    "Mid=(High+Low)/2\n",
    "##Mid=np.log(Mid[1:]/Mid[1:].shift(-1))\n",
    "\n",
    "print(garman_klass(High,Low,Open,Close))\n",
    "print(parkinson(High,Low))\n",
    "print(rogers_satchell(High,Low,Open,Close))\n",
    "print(garman_klass_yang_zang(High,Low,Open,Close))\n",
    "##print(yang_zhang(High,Low,Open,Close))\n",
    "print(volNaive(Mid))\n",
    "print(ZMA_estimator(Mid))"
   ]
  },
  {
   "cell_type": "code",
   "execution_count": null,
   "metadata": {
    "collapsed": true
   },
   "outputs": [],
   "source": []
  }
 ],
 "metadata": {
  "kernelspec": {
   "display_name": "Python 3",
   "language": "python",
   "name": "python3"
  },
  "language_info": {
   "codemirror_mode": {
    "name": "ipython",
    "version": 3
   },
   "file_extension": ".py",
   "mimetype": "text/x-python",
   "name": "python",
   "nbconvert_exporter": "python",
   "pygments_lexer": "ipython3",
   "version": "3.6.3"
  }
 },
 "nbformat": 4,
 "nbformat_minor": 2
}
