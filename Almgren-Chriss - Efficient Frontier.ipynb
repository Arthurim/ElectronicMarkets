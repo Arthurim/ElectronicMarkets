{
 "cells": [
  {
   "cell_type": "markdown",
   "metadata": {},
   "source": [
    "# Almgren-Chriss Optimal Execution - Efficient Frontier approach\n",
    "\n",
    "## Syllabus\n",
    "\n",
    "1. Almgren-Chriss framework\n",
    "2. Efficient frontier for implementation shortfall\n",
    "3. Efficient frontier for VWAP\n",
    "4. Efficient forntier for TWAP\n",
    "\n",
    "## 1. Almgren-Chriss framework\n",
    "\n",
    "The **Almgren-Chriss framework** (1999) is a mathematical model that looks to\n",
    "\n",
    "- Estimate the optimal pace to build/unwind a trading position, issues often faced by brokers and traders (but has not seen as much interest from statisticians, economists and econophysicists in the past decades);\n",
    "- Allows one to graphically represent the trade-off between slow/fast execution;\n",
    "- Ease to choose one's own prefered approach to model market impact costs;\n",
    "- Avoids the temptation of modelling the market as a physical system fully enclosed in its own data (*physics envy*);\n",
    "- Designed from a bottom-top approach: the modelling is based on the execution process itself;\n",
    "- Provides a multitude of modelling approaches to compute the slow/fast execution trade-off (e.g. dynamic programming, stochastic control, reinforcement learning, etc.).\n",
    "\n",
    "We will present 2 approaches to solve the Almgren-Chriss model:\n",
    "\n",
    "1. Efficient Frontier (original method)\n",
    "2. Dynamic Programming\n",
    "\n",
    "**Assumptions**\n",
    "\n",
    "- *Trading trajectory*\n",
    "\n",
    "$$ x_0 = X $$\n",
    "\n",
    "$$ n_k = x_k - x_{k-1} $$\n",
    "\n",
    "$$ x_k = X - \\sum_{j=1}^k n_j = \\sum_{j=k+1}^N n_k, \\, \\, \\, \\,\\, \\, \\,\\, \\, \\,   k=0,...,N $$\n",
    "\n",
    "- *Price trajectory*\n",
    "\n",
    "$$ S_k = S_{k-1} + \\sigma  \\sqrt{\\tau} \\zeta_k - \\tau g(\\frac{n_k}{\\tau}) $$\n",
    "\n",
    "$$ g(v) = \\gamma v $$\n",
    "\n",
    "$$ S_k = S_0 + \\sigma  \\sqrt{\\tau} \\sum_{j=1}^k \\zeta_j - \\gamma (X - x_k) $$\n",
    "\n",
    "- *Temporary market impact*\n",
    "\n",
    "$$ h(v) = \\varepsilon sign(n_i) + \\frac{\\eta}{\\tau} n_i $$\n",
    "\n",
    "$$ \\tilde S_k = S_{k-1} - h(\\frac{n_k}{\\tau}) $$"
   ]
  },
  {
   "cell_type": "code",
   "execution_count": 1,
   "metadata": {
    "collapsed": true
   },
   "outputs": [],
   "source": [
    "import numpy as np\n",
    "\n",
    "# Utilities\n",
    "\n",
    "def g(x, gamma=1.0):\n",
    "    \"\"\"\n",
    "    Permanent market impact.\n",
    "    \"\"\"\n",
    "    return gamma * x\n",
    "\n",
    "def h(x, tau=1.0, epsilon=1.0, eta=1.0):\n",
    "    \"\"\"\n",
    "    Temporary market impact.\n",
    "    \"\"\"\n",
    "    return epsilon*np.sign(x) + eta*(x/tau)"
   ]
  },
  {
   "cell_type": "markdown",
   "metadata": {},
   "source": [
    "## 2. Efficient frontier for implementation shortfall\n",
    "\n",
    "### 2.1. Optimization\n",
    "\n",
    "**Moments**\n",
    "\n",
    "$$ X_N = X S_0 - \\sum_{i=1}^N n_i \\tilde S_i $$\n",
    "\n",
    "$$ \\mathbb{E}(X_N) = \\sum_{i=1}^N \\tau x_i g(\\frac{n_i}{\\tau}) + \\sum_{i=1}^{N} n_i h(\\frac{n_i}{\\tau}) = \\frac{1}{2} \\gamma X^2 + \\varepsilon \\sum_{i=1}^N |n_i| + \\frac{\\eta-0.5\\gamma \\tau}{\\tau} \\sum_{i=1}^N n_i^2 $$\n",
    "\n",
    "$$ \\mathbb{V}(X_N) = \\sigma^2 \\sum_{i=1}^N \\tau x_i^2 $$\n",
    "\n",
    "Refresher:\n",
    "\n",
    "$$ x_t = X - \\sum_{j=1}^t n_j = \\sum_{j=t+1}^N n_j $$"
   ]
  },
  {
   "cell_type": "code",
   "execution_count": 2,
   "metadata": {
    "collapsed": true
   },
   "outputs": [],
   "source": [
    "# Moments\n",
    "\n",
    "def expectation_IS(N, tau=1.0, gamma=1.0, eta=1.0, eps=1.0):\n",
    "    \"\"\"\n",
    "    Expectation of implementation shortfall.\n",
    "    \"\"\"\n",
    "    exp = 0.5*gamma*X**2 + eps*np.sum(N) + (eta - 0.5*gamma*tau)/tau * np.sum(N**2)\n",
    "    return exp\n",
    "\n",
    "def variance_IS(N, X=1000, sigma=0.3, tau=1.0):\n",
    "    \"\"\"\n",
    "    Variance of implementation shortfall.\n",
    "    \"\"\"\n",
    "    var = 0\n",
    "    t = - 1\n",
    "    while t < len(N) - 1:\n",
    "        t = t + 1\n",
    "        temp = (X - np.sum(N[0:t])) ** 2\n",
    "        var = var + temp\n",
    "    \n",
    "    var = tau * (sigma**2) * var\n",
    "    return var\n",
    "\n",
    "# Objective function\n",
    "\n",
    "def objective_IS(N):\n",
    "    \"\"\"\n",
    "    Objective function for implementation shortfall.\n",
    "    \"\"\"\n",
    "    obj = expectation_IS(N) + risk * variance_IS(N)\n",
    "    return obj"
   ]
  },
  {
   "cell_type": "markdown",
   "metadata": {},
   "source": [
    "**Optimization**\n",
    "\n",
    "$$ (n_1^*,...,n_N^*) = \\min_{0<n_i<X} \\mathbb{E}(X_N) + \\lambda * \\mathbb{V}(X_N) $$"
   ]
  },
  {
   "cell_type": "code",
   "execution_count": 3,
   "metadata": {},
   "outputs": [
    {
     "name": "stdout",
     "output_type": "stream",
     "text": [
      "Liquidation trajectory:\n",
      "\n",
      "[[ 3501.]\n",
      " [ 3524.]\n",
      " [ 3578.]\n",
      " [ 3663.]\n",
      " [ 3785.]\n",
      " [ 3935.]\n",
      " [ 4124.]\n",
      " [ 4350.]\n",
      " [ 4615.]\n",
      " [ 4925.]]\n",
      "\n",
      "Total number of shares:\n",
      "40000.0\n"
     ]
    }
   ],
   "source": [
    "# Parameters\n",
    "nb_T = 10\n",
    "x0 = np.zeros((nb_T, 1))\n",
    "X = 40000\n",
    "risk = 0.05\n",
    "\n",
    "# Optimization\n",
    "from scipy.optimize import minimize\n",
    "\n",
    "bnds = tuple((0.0, X) for x in range(len(x0)))\n",
    "cons = ({'type': 'eq', 'fun': lambda x:  np.sum(x) - X})\n",
    "\n",
    "opt = minimize(objective_IS, x0, method='SLSQP', bounds=bnds, constraints=cons)\n",
    "N_opt = np.array(opt.x)\n",
    "\n",
    "print('Liquidation trajectory:\\n')\n",
    "print(np.matrix(opt.x.round(0)).T)\n",
    "\n",
    "print('\\nTotal number of shares:')\n",
    "print(np.sum(opt.x))"
   ]
  },
  {
   "cell_type": "markdown",
   "metadata": {},
   "source": [
    "We have the optimal trajectory, now we can detail the liquidation process from the first day till the last:"
   ]
  },
  {
   "cell_type": "code",
   "execution_count": 4,
   "metadata": {},
   "outputs": [
    {
     "name": "stdout",
     "output_type": "stream",
     "text": [
      "Liquidation history:\n",
      "\n",
      "[[ 40000.]\n",
      " [ 36476.]\n",
      " [ 32898.]\n",
      " [ 29235.]\n",
      " [ 25450.]\n",
      " [ 21515.]\n",
      " [ 17391.]\n",
      " [ 13041.]\n",
      " [  8426.]\n",
      " [  3501.]\n",
      " [     0.]]\n"
     ]
    }
   ],
   "source": [
    "def liquidation_history(N_opt, X):\n",
    "    \"\"\"\n",
    "    Prints out the liquidation history of the optimal execution.\n",
    "    \"\"\"\n",
    "    hist = np.zeros((len(N_opt)+1, 1))\n",
    "    hist[0] = X\n",
    "    \n",
    "    for i in range(1, len(N_opt)):\n",
    "        hist[i] = hist[i-1] - N_opt[i]\n",
    "    \n",
    "    return hist\n",
    "\n",
    "hist_opt = liquidation_history(N_opt, X)\n",
    "\n",
    "print('Liquidation history:\\n')\n",
    "print(hist_opt.round(0))"
   ]
  },
  {
   "cell_type": "code",
   "execution_count": 5,
   "metadata": {},
   "outputs": [
    {
     "data": {
      "image/png": "[encoded data removed]",
      "text/plain": [
       "<matplotlib.figure.Figure at 0x174072d1128>"
      ]
     },
     "metadata": {},
     "output_type": "display_data"
    }
   ],
   "source": [
    "import matplotlib.pyplot as plt\n",
    "\n",
    "plt.figure(figsize=(7,5))\n",
    "plt.plot(hist_opt, color='blue', lw=1.5)\n",
    "plt.grid(True)\n",
    "plt.xlabel('Day')\n",
    "plt.ylabel('Nb. of shares')\n",
    "plt.show()"
   ]
  },
  {
   "cell_type": "markdown",
   "metadata": {},
   "source": [
    "For the expectation and variance, we get:"
   ]
  },
  {
   "cell_type": "code",
   "execution_count": 6,
   "metadata": {},
   "outputs": [
    {
     "name": "stdout",
     "output_type": "stream",
     "text": [
      "881134715.505\n",
      "333217394.515\n"
     ]
    }
   ],
   "source": [
    "print(expectation_IS(N_opt))\n",
    "print(variance_IS(N_opt))"
   ]
  },
  {
   "cell_type": "markdown",
   "metadata": {},
   "source": [
    "### 2.2. Hyperparameter testing"
   ]
  },
  {
   "cell_type": "code",
   "execution_count": 7,
   "metadata": {
    "collapsed": true
   },
   "outputs": [],
   "source": [
    "def efficient_frontier_IS(X, risk, nb_T, tau=1.0, gamma=1.0, eta=1.0, eps=1.0):\n",
    "    \n",
    "    def expectation_IS(N):\n",
    "        \"\"\"\n",
    "        Expectation of implementation shortfall.\n",
    "        \"\"\"\n",
    "        exp = 0.5*gamma*X**2 + eps*np.sum(N) + (eta - 0.5*gamma*tau)/tau * np.sum(N**2)\n",
    "        return exp\n",
    "\n",
    "    def variance_IS(N, sigma=0.3):\n",
    "        \"\"\"\n",
    "        Variance of implementation shortfall.\n",
    "        \"\"\"\n",
    "        var = 0\n",
    "        t = - 1\n",
    "        while t < len(N) - 1:\n",
    "            t = t + 1\n",
    "            temp = (X - np.sum(N[0:t])) ** 2\n",
    "            var = var + temp\n",
    "        var = tau * (sigma**2) * var\n",
    "        return var\n",
    "    \n",
    "    def objective_IS(N):\n",
    "        \"\"\"\n",
    "        Objective function for implementation shortfall.\n",
    "        \"\"\"\n",
    "        obj = expectation_IS(N) + risk * variance_IS(N)\n",
    "        return obj\n",
    "    \n",
    "    def optimization_IS():\n",
    "        \"\"\"\n",
    "        Optimal execution with optimization for implementation shortfall.\n",
    "        \"\"\"\n",
    "        x0 = np.zeros((nb_T, 1))\n",
    "        bnds = tuple((0.0, X) for x in range(len(x0)))\n",
    "        cons = ({'type': 'eq', 'fun': lambda x:  np.sum(x) - X})\n",
    "        opt = minimize(objective_IS, x0, method='SLSQP', bounds=bnds, constraints=cons)\n",
    "        N = np.array(opt.x)\n",
    "        return N\n",
    "    \n",
    "    N_opt = optimization_IS()\n",
    "    \n",
    "    def liquidation_history(N_opt, X):\n",
    "        \"\"\"\n",
    "        Prints out the liquidation history of the optimal execution.\n",
    "        \"\"\"\n",
    "        hist = np.zeros((len(N_opt)+1, 1))\n",
    "        hist[0] = X\n",
    "        for i in range(1, len(N_opt)):\n",
    "            hist[i] = hist[i-1] - N_opt[i]\n",
    "        return hist\n",
    "    \n",
    "    hist_opt = liquidation_history(N_opt,X)\n",
    "    \n",
    "    def plot_liquidation():\n",
    "        plt.figure(figsize=(7,5))\n",
    "        plt.plot(hist_opt, color='blue', lw=1.5, marker='o')\n",
    "        plt.grid(True)\n",
    "        plt.xlabel('Day')\n",
    "        plt.ylabel('Nb. of shares')\n",
    "        plt.show()\n",
    "    \n",
    "    plot_liquidation()\n",
    "    \n",
    "    return hist_opt.round(0)"
   ]
  },
  {
   "cell_type": "code",
   "execution_count": 8,
   "metadata": {},
   "outputs": [
    {
     "data": {
      "image/png": "[encoded data removed]",
      "text/plain": [
       "<matplotlib.figure.Figure at 0x17406eccfd0>"
      ]
     },
     "metadata": {},
     "output_type": "display_data"
    },
    {
     "data": {
      "text/plain": [
       "array([[ 40000.],\n",
       "       [ 35354.],\n",
       "       [ 30982.],\n",
       "       [ 26844.],\n",
       "       [ 22903.],\n",
       "       [ 19124.],\n",
       "       [ 15473.],\n",
       "       [ 11917.],\n",
       "       [  8423.],\n",
       "       [  4961.],\n",
       "       [     0.]])"
      ]
     },
     "execution_count": 8,
     "metadata": {},
     "output_type": "execute_result"
    }
   ],
   "source": [
    "efficient_frontier_IS(X=40000, risk=0.1, nb_T=10,\n",
    "                      tau=1.0,\n",
    "                      gamma=0.002,\n",
    "                      eta=1.0,\n",
    "                      eps=1.0)"
   ]
  },
  {
   "cell_type": "markdown",
   "metadata": {},
   "source": [
    "### 2.3. Efficient frontier"
   ]
  },
  {
   "cell_type": "code",
   "execution_count": null,
   "metadata": {
    "collapsed": true
   },
   "outputs": [],
   "source": []
  }
 ],
 "metadata": {
  "kernelspec": {
   "display_name": "Python 3",
   "language": "python",
   "name": "python3"
  },
  "language_info": {
   "codemirror_mode": {
    "name": "ipython",
    "version": 3
   },
   "file_extension": ".py",
   "mimetype": "text/x-python",
   "name": "python",
   "nbconvert_exporter": "python",
   "pygments_lexer": "ipython3",
   "version": "3.6.3"
  }
 },
 "nbformat": 4,
 "nbformat_minor": 2
}
